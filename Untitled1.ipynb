{
  "nbformat": 4,
  "nbformat_minor": 0,
  "metadata": {
    "colab": {
      "provenance": [],
      "authorship_tag": "ABX9TyOC+eQqUvVD9RX8MB4k+gF/",
      "include_colab_link": true
    },
    "kernelspec": {
      "name": "python3",
      "display_name": "Python 3"
    },
    "language_info": {
      "name": "python"
    }
  },
  "cells": [
    {
      "cell_type": "markdown",
      "metadata": {
        "id": "view-in-github",
        "colab_type": "text"
      },
      "source": [
        "<a href=\"https://colab.research.google.com/github/aikokass82-design/home-tasks-/blob/main/Untitled1.ipynb\" target=\"_parent\"><img src=\"https://colab.research.google.com/assets/colab-badge.svg\" alt=\"Open In Colab\"/></a>"
      ]
    },
    {
      "cell_type": "code",
      "source": [
        "#1\n",
        "word_1=input(\"input some text: \")\n",
        "word_2 = input(\"input some text: \")\n",
        "set1 = set(word_1)\n",
        "set2 = set(word_2)\n",
        "common_letters = set1&set2\n",
        "print(\"common letters: \", common_letters)"
      ],
      "metadata": {
        "colab": {
          "base_uri": "https://localhost:8080/"
        },
        "id": "znPj7MWYBrHX",
        "outputId": "d4a917b0-c0d6-4afe-a68e-e83a285a0db8"
      },
      "execution_count": 3,
      "outputs": [
        {
          "output_type": "stream",
          "name": "stdout",
          "text": [
            "input some text: apple\n",
            "input some text: grape\n",
            "common letters:  {'e', 'p', 'a'}\n"
          ]
        }
      ]
    },
    {
      "cell_type": "code",
      "source": [
        "#2\n",
        "multiples3 = [i for i in range (1, 101) if i%3==0]\n",
        "multiples5 = [j for j in range (1,101) if j%5==0]\n",
        "common_num = list(set(multiples3)&set(multiples5))\n",
        "print(\"кратные 3: \", multiples3)\n",
        "print(\"кратные 5: \", multiples5)\n",
        "print(\"общие числа: \", common_num)"
      ],
      "metadata": {
        "colab": {
          "base_uri": "https://localhost:8080/"
        },
        "id": "u-yGu0irENgM",
        "outputId": "ce58a4ec-b709-458e-92df-2a05280b6d7c"
      },
      "execution_count": 5,
      "outputs": [
        {
          "output_type": "stream",
          "name": "stdout",
          "text": [
            "кратные 3:  [3, 6, 9, 12, 15, 18, 21, 24, 27, 30, 33, 36, 39, 42, 45, 48, 51, 54, 57, 60, 63, 66, 69, 72, 75, 78, 81, 84, 87, 90, 93, 96, 99]\n",
            "кратные 5:  [5, 10, 15, 20, 25, 30, 35, 40, 45, 50, 55, 60, 65, 70, 75, 80, 85, 90, 95, 100]\n",
            "общие числа:  [75, 45, 15, 90, 60, 30]\n"
          ]
        }
      ]
    }
  ]
}