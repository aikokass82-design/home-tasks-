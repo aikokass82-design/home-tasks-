{
  "nbformat": 4,
  "nbformat_minor": 0,
  "metadata": {
    "colab": {
      "provenance": [],
      "authorship_tag": "ABX9TyMtXQ6tjt3ikV1Iv1D4bR6n",
      "include_colab_link": true
    },
    "kernelspec": {
      "name": "python3",
      "display_name": "Python 3"
    },
    "language_info": {
      "name": "python"
    }
  },
  "cells": [
    {
      "cell_type": "markdown",
      "metadata": {
        "id": "view-in-github",
        "colab_type": "text"
      },
      "source": [
        "<a href=\"https://colab.research.google.com/github/aikokass82-design/home-tasks-/blob/main/Untitled1.ipynb\" target=\"_parent\"><img src=\"https://colab.research.google.com/assets/colab-badge.svg\" alt=\"Open In Colab\"/></a>"
      ]
    },
    {
      "cell_type": "code",
      "source": [
        "from google.colab import drive\n",
        "drive.mount('/content/drive')"
      ],
      "metadata": {
        "id": "5rD8QL1XAGSA",
        "colab": {
          "base_uri": "https://localhost:8080/"
        },
        "outputId": "5b55c624-b698-4577-e967-0d7c151d8a58"
      },
      "execution_count": 24,
      "outputs": [
        {
          "output_type": "stream",
          "name": "stdout",
          "text": [
            "Drive already mounted at /content/drive; to attempt to forcibly remount, call drive.mount(\"/content/drive\", force_remount=True).\n"
          ]
        }
      ]
    },
    {
      "cell_type": "code",
      "source": [
        "counts={}\n",
        "with open(r\"/content/drive/MyDrive/Colab Notebooks/Lection_8_hw.csv\",\"r\") as file_1:\n",
        "  list_1 = file_1.readlines()\n",
        "  split_one_line = list_1[0].strip().split(\",\")\n",
        "  price_index = split_one_line.index(\"price_range\")\n",
        "for line in list_1[1:]:\n",
        "  price=line.strip().split(\",\")[price_index]\n",
        "  counts[price] = counts.get(price, 0)+1\n",
        "for k,v in counts.items():\n",
        "  print(f\"Category {k}: {v}\")"
      ],
      "metadata": {
        "id": "gA61K0I_q0qk",
        "colab": {
          "base_uri": "https://localhost:8080/"
        },
        "outputId": "4b5821f0-a1f2-473f-85e1-8ff54c157c44"
      },
      "execution_count": 28,
      "outputs": [
        {
          "output_type": "stream",
          "name": "stdout",
          "text": [
            "Category 2: 5\n",
            "Category 1: 6\n",
            "Category 3: 11\n",
            "Category 0: 7\n"
          ]
        }
      ]
    },
    {
      "cell_type": "code",
      "source": [
        "import math\n",
        "\n",
        "with open(r\"/content/drive/MyDrive/Colab Notebooks/Lection_8_hw.csv\",\"r\") as f:\n",
        "    lines = f.readlines()\n",
        "header = lines[0].strip().split(\",\")\n",
        "h_idx = header.index(\"sc_h\")\n",
        "w_idx = header.index(\"sc_w\")\n",
        "p_idx = header.index(\"price_range\")\n",
        "new_head = [j for j in header if j not in (\"sc_h\", \"sc_w\")] + [\"screen_diag\"]\n",
        "rows = []\n",
        "for line in lines[1:]:\n",
        "    row = line.strip().split(\",\")\n",
        "    if row[h_idx] == \"\" or row[w_idx] == \"\":\n",
        "        continue\n",
        "    w = float(row[w_idx])\n",
        "    h = float(row[h_idx])\n",
        "    diag = round(math.sqrt(w*w + h*h), 2)\n",
        "    new_row = [row[i] for i in range(len(row)) if i not in (h_idx, w_idx)] + [str(diag)]\n",
        "    rows.append(new_row)\n",
        "rows.sort(key=lambda x: int(x[p_idx - 2]))\n",
        "with open(\"phones_with_diag_grouped.csv\", \"w\") as f:\n",
        "    f.write(\",\".join(new_head) + \"\\n\")\n",
        "    for r in rows:\n",
        "        f.write(\",\".join(r) + \"\\n\")\n",
        "print(\"File saved as phones_with_diag_grouped.csv\")"
      ],
      "metadata": {
        "colab": {
          "base_uri": "https://localhost:8080/"
        },
        "id": "6kw4gjItGDBg",
        "outputId": "4d296fa3-708d-4fb6-98e6-6a7e2e3729b3"
      },
      "execution_count": 40,
      "outputs": [
        {
          "output_type": "stream",
          "name": "stdout",
          "text": [
            "File saved as phones_with_diag_grouped.csv\n"
          ]
        }
      ]
    },
    {
      "cell_type": "code",
      "source": [
        "import csv\n",
        "customer_purchases = [\n",
        "{\"Customer_ID\": 1001, \"Product\": \"Laptop\", \"Category\": \"Electronics\", \"Purchase_Date\": \"2024-02-01\"},\n",
        "{\"Customer_ID\": 1002, \"Product\": \"Smartphone\", \"Category\": \"Electronics\", \"Purchase_Date\": \"2024-02-02\"},\n",
        "{\"Customer_ID\": 1003, \"Product\": \"Sofa\", \"Category\": \"Furniture\", \"Purchase_Date\": \"2024-02-03\"},\n",
        "{\"Customer_ID\": 1001, \"Product\": \"Tablet\", \"Category\": \"Electronics\", \"Purchase_Date\": \"2024-02-10\"},\n",
        "{\"Customer_ID\": 1002, \"Product\": \"Chair\", \"Category\": \"Furniture\", \"Purchase_Date\": \"2024-02-15\"},\n",
        "{\"Customer_ID\": 1003, \"Product\": \"Laptop\", \"Category\": \"Electronics\", \"Purchase_Date\": \"2024-02-18\"},\n",
        "{\"Customer_ID\": 1004, \"Product\": \"Desk\", \"Category\": \"Furniture\", \"Purchase_Date\": \"2024-02-20\"},\n",
        "]\n",
        "with open (\"customer.csv\", \"w\") as file:\n",
        "  fieldnames = [\"Customer_ID\", \"Product\", \"Category\",\"Purchase_Date\"]\n",
        "  writer=csv.DictWriter(file, delimiter=\",\", fieldnames=fieldnames)\n",
        "  writer.writeheader()\n",
        "  writer.writerows(customer_purchases)\n",
        "print (\"File customer.csv was saved successfully!\")"
      ],
      "metadata": {
        "colab": {
          "base_uri": "https://localhost:8080/"
        },
        "id": "yoS4DnBfPSsE",
        "outputId": "798776c2-0a06-4ad6-bfcd-fdcf1582cb7e"
      },
      "execution_count": 4,
      "outputs": [
        {
          "output_type": "stream",
          "name": "stdout",
          "text": [
            "File customer.csv was saved successfully!\n"
          ]
        }
      ]
    },
    {
      "cell_type": "code",
      "source": [
        "ascii_art = r\"\"\"\n",
        "              .-.\n",
        "         ,   (0 0)       ,       ,\n",
        "    ,        | o \\\n",
        "             \\    \\  ,      ,\n",
        "     ,   ,    \\~ ~|\n",
        "              /   /,    ,       ,\n",
        "             |~ ~|\n",
        "   ,      ,  \\    \\     ,   ,\n",
        "              \\    \\\n",
        "      ,       |~ ~ ~|\n",
        "              /    /   ,       ,\n",
        "             /~ ~/\n",
        "            /  /\n",
        "            /\n",
        "a cute worm in rainy weather \"\"\"\n",
        "with open (\"acsii_art.txt\", \"w\") as f:\n",
        "  f.write(ascii_art)\n",
        "print(\"saved:)!\")"
      ],
      "metadata": {
        "colab": {
          "base_uri": "https://localhost:8080/"
        },
        "id": "IQM0v-TySpBM",
        "outputId": "214023f0-680d-4511-da51-583055b135cc"
      },
      "execution_count": 5,
      "outputs": [
        {
          "output_type": "stream",
          "name": "stdout",
          "text": [
            "saved:)!\n"
          ]
        }
      ]
    },
    {
      "cell_type": "code",
      "source": [
        "import csv\n",
        "with open (\"customer.csv\", \"r\") as file:\n",
        "  reader= csv.DictReader(file)\n",
        "  for row in reader:\n",
        "    if row[\"Product\"]==\"Laptop\":\n",
        "      print(f\"Customer_ID: {row['Customer_ID']}, Date: {row['Purchase_Date']}, Category: {row['Category']}\")"
      ],
      "metadata": {
        "colab": {
          "base_uri": "https://localhost:8080/"
        },
        "id": "pOv3Sc0IVyTq",
        "outputId": "76dbe9a0-b9ff-4fef-c8cc-ecc74c3db18f"
      },
      "execution_count": 13,
      "outputs": [
        {
          "output_type": "stream",
          "name": "stdout",
          "text": [
            "Customer_ID: 1001, Date: 2024-02-01, Category: Electronics\n",
            "Customer_ID: 1003, Date: 2024-02-18, Category: Electronics\n"
          ]
        }
      ]
    },
    {
      "cell_type": "markdown",
      "source": [],
      "metadata": {
        "id": "TaQA6MxQRD6x"
      }
    }
  ]
}