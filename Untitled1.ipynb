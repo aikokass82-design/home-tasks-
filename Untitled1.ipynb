{
  "nbformat": 4,
  "nbformat_minor": 0,
  "metadata": {
    "colab": {
      "provenance": [],
      "authorship_tag": "ABX9TyNn1eBKLA/TmPRrbyFdm3xt",
      "include_colab_link": true
    },
    "kernelspec": {
      "name": "python3",
      "display_name": "Python 3"
    },
    "language_info": {
      "name": "python"
    }
  },
  "cells": [
    {
      "cell_type": "markdown",
      "metadata": {
        "id": "view-in-github",
        "colab_type": "text"
      },
      "source": [
        "<a href=\"https://colab.research.google.com/github/aikokass82-design/home-tasks-/blob/main/Untitled1.ipynb\" target=\"_parent\"><img src=\"https://colab.research.google.com/assets/colab-badge.svg\" alt=\"Open In Colab\"/></a>"
      ]
    },
    {
      "cell_type": "code",
      "source": [
        "#1\n",
        "def purchases_to_dict(*args):\n",
        "  result={}\n",
        "  for user, item in args:\n",
        "    result.setdefault(user, []).append(item)\n",
        "  return result\n",
        "print(purchases_to_dict((\"Alice\", \"Book\"), (\"Alice\", \"Pen\"), (\"Bob\", \"Book\")))"
      ],
      "metadata": {
        "colab": {
          "base_uri": "https://localhost:8080/"
        },
        "id": "PppVZJYEURhd",
        "outputId": "86d16f49-5f44-487e-b87e-2d9268999b06"
      },
      "execution_count": 9,
      "outputs": [
        {
          "output_type": "stream",
          "name": "stdout",
          "text": [
            "{'Alice': ['Book', 'Pen'], 'Bob': ['Book']}\n"
          ]
        }
      ]
    },
    {
      "cell_type": "code",
      "source": [
        "#2\n",
        "import statistics\n",
        "def deviation_find(numbers: list[float], k:float=3):\n",
        "  mean_val=statistics.mean(numbers)\n",
        "  stdev_val=statistics.stdev(numbers)\n",
        "\n",
        "  lower = mean_val - k * stdev_val\n",
        "  upper = mean_val + k *stdev_val\n",
        "\n",
        "  result = []\n",
        "  for element in numbers:\n",
        "    if element< lower or element>upper:\n",
        "      result.append(element)\n",
        "  return result\n",
        "print(deviation_find([3600, 2578, 3152, 6300, 2195, 14800, 3378, 2003, 2948, 2080, 2040, 3232]))"
      ],
      "metadata": {
        "colab": {
          "base_uri": "https://localhost:8080/"
        },
        "id": "DP4VyJdMaFI2",
        "outputId": "7de83e8f-8acb-4fa0-c9ff-a4c79a6402d3"
      },
      "execution_count": 15,
      "outputs": [
        {
          "output_type": "stream",
          "name": "stdout",
          "text": [
            "[14800]\n"
          ]
        }
      ]
    },
    {
      "cell_type": "code",
      "source": [
        "#3\n",
        "def best_option(sales):\n",
        "  options = {\n",
        "      \"Q1\": sum(sales[0:3]),\n",
        "      \"Q2\": sum(sales[3:6]),\n",
        "      \"Q3\": sum(sales[6:9]),\n",
        "      \"Q4\": sum(sales[9:12])\n",
        "  }\n",
        "  return max(options, key=options.get)\n",
        "sales=[1200, 1300, 1500, 2000, 2100, 2500, 3000, 3100, 2800, 2200, 2300, 2100]\n",
        "print(best_option(sales))"
      ],
      "metadata": {
        "colab": {
          "base_uri": "https://localhost:8080/"
        },
        "id": "s0IKAIPY-cFU",
        "outputId": "b26718da-3ad6-4a82-eb4f-1b9378338e93"
      },
      "execution_count": 4,
      "outputs": [
        {
          "output_type": "stream",
          "name": "stdout",
          "text": [
            "Q3\n"
          ]
        }
      ]
    },
    {
      "cell_type": "code",
      "source": [
        "#4\n",
        "def complete_users(users):\n",
        "  return[user for user in users if all(user.values())]\n",
        "users=[\n",
        "{\"login\": \"Alice\", \"country\": \"USA\",\"email\": \"alice@mail.com\"},\n",
        "{\"login\": \"Bob\", \"country\": \"\",\"email\": \"bobby@mail.com\"},\n",
        "{\"login\": \"Charlie\", \"country\": \"USA\",\"email\": \"\"}\n",
        "]\n",
        "print(complete_users(users))"
      ],
      "metadata": {
        "colab": {
          "base_uri": "https://localhost:8080/"
        },
        "id": "dRIj9TVDB0gg",
        "outputId": "5ebcf8f7-aba0-4f09-e1a5-360a8a118b44"
      },
      "execution_count": 6,
      "outputs": [
        {
          "output_type": "stream",
          "name": "stdout",
          "text": [
            "[{'login': 'Alice', 'country': 'USA', 'email': 'alice@mail.com'}]\n"
          ]
        }
      ]
    }
  ]
}