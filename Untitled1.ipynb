{
  "nbformat": 4,
  "nbformat_minor": 0,
  "metadata": {
    "colab": {
      "provenance": [],
      "authorship_tag": "ABX9TyOboNfbO1vAUimA6ZmfCirv",
      "include_colab_link": true
    },
    "kernelspec": {
      "name": "python3",
      "display_name": "Python 3"
    },
    "language_info": {
      "name": "python"
    }
  },
  "cells": [
    {
      "cell_type": "markdown",
      "metadata": {
        "id": "view-in-github",
        "colab_type": "text"
      },
      "source": [
        "<a href=\"https://colab.research.google.com/github/aikokass82-design/home-tasks-/blob/main/Untitled1.ipynb\" target=\"_parent\"><img src=\"https://colab.research.google.com/assets/colab-badge.svg\" alt=\"Open In Colab\"/></a>"
      ]
    },
    {
      "cell_type": "code",
      "source": [
        "class Product:\n",
        "  def __init__(self, price, description, dimensions):\n",
        "    self.price = price\n",
        "    self.description = description\n",
        "    self.dimensions = dimensions\n",
        "  def info(self):\n",
        "    return f\"Товар: {self.description}, Цена: {self.price} тенге, Габариты: {self.dimensions}\"\n",
        "\n",
        "product_1=Product(35000, \"Беспроводные наушники\", \"10x8x5 cм\")\n",
        "product_2=Product(145000,\"Ноутбук ASUS\" ,\"35x25x2 см\")\n",
        "print(product_1.info())\n",
        "print(product_2.info())"
      ],
      "metadata": {
        "colab": {
          "base_uri": "https://localhost:8080/"
        },
        "id": "9Nnrcqs2zxU7",
        "outputId": "fc6c64ea-5196-47a7-ecda-b58586ef21dd"
      },
      "execution_count": 13,
      "outputs": [
        {
          "output_type": "stream",
          "name": "stdout",
          "text": [
            "Товар: Беспроводные наушники, Цена: 35000 тенге, Габариты: 10x8x5 cм\n",
            "Товар: Ноутбук ASUS, Цена: 145000 тенге, Габариты: 35x25x2 см\n"
          ]
        }
      ]
    },
    {
      "cell_type": "code",
      "source": [
        "class Buyer:\n",
        "  def __init__(self, surname, name, fathersname, number, email):\n",
        "    self.surname=surname\n",
        "    self.name=name\n",
        "    self.fathersname=fathersname\n",
        "    self.number=number\n",
        "    self.email=email\n",
        "  def info(self):\n",
        "    return f\"surname: {self.surname}, name: {self.name}, fathersname: {self.fathersname}, number: {self.number}, email: {self.email}\"\n",
        "buyer1=Buyer(\"Alexandrov\", \"Alexandr\", \"Alexandrovich\", +4367768729008, \"alex@example.com\")\n",
        "buyer2=Buyer(\"Regina\", \"Mrazotova\", \"Alekseevna\", +438679996666, \"regina@mail.ew\")\n",
        "print(buyer1.info())\n",
        "print(buyer2.info())"
      ],
      "metadata": {
        "colab": {
          "base_uri": "https://localhost:8080/"
        },
        "id": "-hc0KjG56ywO",
        "outputId": "6d473a2a-7f90-469c-b6f4-0a171cb6df56"
      },
      "execution_count": 14,
      "outputs": [
        {
          "output_type": "stream",
          "name": "stdout",
          "text": [
            "surname: Alexandrov, name: Alexandr, fathersname: Alexandrovich, number: 4367768729008, email: alex@example.com\n",
            "surname: Regina, name: Mrazotova, fathersname: Alekseevna, number: 438679996666, email: regina@mail.ew\n"
          ]
        }
      ]
    },
    {
      "cell_type": "code",
      "source": [
        "class Product:\n",
        "  def __init__(self, price, description, dimensions):\n",
        "    self.price = price\n",
        "    self.description = description\n",
        "    self.dimensions = dimensions\n",
        "  def __str__(self):\n",
        "    return f\"Товар: {self.description}, Цена: {self.price} тенге, Габариты: {self.dimensions}\"\n",
        "\n",
        "class Buyer:\n",
        "  def __init__(self, surname, name, fathersname, number, email):\n",
        "    self.surname=surname\n",
        "    self.name=name\n",
        "    self.fathersname=fathersname\n",
        "    self.number=number\n",
        "    self.email=email\n",
        "  def __str__(self):\n",
        "    return f\"surname: {self.surname}, name: {self.name}, fathersname: {self.fathersname}, number: {self.number}, email: {self.email}\"\n",
        "\n",
        "class Order:\n",
        "  def __init__(self, buyer, product):\n",
        "    self.buyer = buyer\n",
        "    self.product = product\n",
        "  def total_price(self):\n",
        "    return sum(product.price for product in self.product)\n",
        "  def __str__(self):\n",
        "    product_list = \"\\n\".join(str(product) for product in self.product)\n",
        "    return (f\"Заказ для покупателя:\\n{self.buyer}\\n\\n\"\n",
        "                f\"Список товаров:\\n{product_list}\\n\\n\"\n",
        "                f\"Суммарная стоимость: {self.total_price()} тенге.\")\n",
        "product_1=Product(35000, \"Беспроводные наушники\", \"10x8x5 cм\")\n",
        "product_2=Product(145000,\"Ноутбук ASUS\" ,\"35x25x2 см\")\n",
        "\n",
        "buyer =Buyer(\"Alexandrov\", \"Alexandr\", \"Alexandrovich\", +4367768729008, \"alex@example.com\")\n",
        "order = Order(buyer, [product_1, product_2])\n",
        "print(order)\n"
      ],
      "metadata": {
        "colab": {
          "base_uri": "https://localhost:8080/"
        },
        "id": "pCdWhJB19YUX",
        "outputId": "022da084-73c7-4fe9-f7e0-76173435d64a"
      },
      "execution_count": 18,
      "outputs": [
        {
          "output_type": "stream",
          "name": "stdout",
          "text": [
            "Заказ для покупателя:\n",
            "surname: Alexandrov, name: Alexandr, fathersname: Alexandrovich, number: 4367768729008, email: alex@example.com\n",
            "\n",
            "Список товаров:\n",
            "Товар: Беспроводные наушники, Цена: 35000 тенге, Габариты: 10x8x5 cм\n",
            "Товар: Ноутбук ASUS, Цена: 145000 тенге, Габариты: 35x25x2 см\n",
            "\n",
            "Суммарная стоимость: 180000 тенге.\n"
          ]
        }
      ]
    }
  ]
}