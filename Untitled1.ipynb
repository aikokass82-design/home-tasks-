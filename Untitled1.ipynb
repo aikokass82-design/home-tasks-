{
  "nbformat": 4,
  "nbformat_minor": 0,
  "metadata": {
    "colab": {
      "provenance": [],
      "authorship_tag": "ABX9TyPx5KgfHteux9JS+pjKCxCI",
      "include_colab_link": true
    },
    "kernelspec": {
      "name": "python3",
      "display_name": "Python 3"
    },
    "language_info": {
      "name": "python"
    }
  },
  "cells": [
    {
      "cell_type": "markdown",
      "metadata": {
        "id": "view-in-github",
        "colab_type": "text"
      },
      "source": [
        "<a href=\"https://colab.research.google.com/github/aikokass82-design/home-tasks-/blob/main/Untitled1.ipynb\" target=\"_parent\"><img src=\"https://colab.research.google.com/assets/colab-badge.svg\" alt=\"Open In Colab\"/></a>"
      ]
    },
    {
      "cell_type": "code",
      "source": [
        "#Контрольная работа №1"
      ],
      "metadata": {
        "id": "ObzOOG5U8K0v"
      },
      "execution_count": 2,
      "outputs": []
    },
    {
      "cell_type": "code",
      "source": [
        "#№1\n",
        "import csv\n",
        "from google.colab import drive\n",
        "drive.mount(\"/content/drive\")\n",
        "clean_data=[]\n",
        "orders_with_id=[]\n",
        "orders_without_id=[]\n",
        "with open(r\"/content/drive/MyDrive/Colab Notebooks/orders_project_01.csv\",\"r\") as file:\n",
        "    reader=csv.DictReader(file)\n",
        "\n",
        "    for row in reader:\n",
        "        try:\n",
        "            if row[\"Quantity\"]==\"\" or row[\"Quantity\"] is None:\n",
        "                quantity=1\n",
        "            else:\n",
        "                quantity = float(row[\"Quantity\"])\n",
        "                if quantity<=0:\n",
        "                    continue\n",
        "            if row[\"UnitPrice\"]==\"\" or row[\"UnitPrice\"] is None:\n",
        "                continue\n",
        "            price = float(row[\"UnitPrice\"])\n",
        "            if price <=0:\n",
        "                continue\n",
        "            if row[\"Discount\"] ==\"\" or row[\"Discount\"] is None:\n",
        "                discount = 0.0\n",
        "            else:\n",
        "                discount = float(row[\"Discount\"])\n",
        "                if discount <0.0 or discount > 0.3:\n",
        "                    continue\n",
        "\n",
        "            clean_row=({\n",
        "                \"InvoiceNo\": row[\"InvoiceNo\"],\n",
        "                \"CustomerID\": row[\"CustomerID\"],\n",
        "                \"Description\": row[\"Description\"],\n",
        "                \"Quantity\": quantity,\n",
        "                \"UnitPrice\": price,\n",
        "                \"Category\": row[\"Category\"],\n",
        "                \"Discount\": discount,\n",
        "                \"PaymentMethod\": row[\"PaymentMethod\"].strip().upper()\n",
        "            })\n",
        "            clean_data.append(clean_row)\n",
        "            if row[\"CustomerID\"] and row[\"CustomerID\"].strip()!=\"\":\n",
        "                orders_with_id.append(clean_row)\n",
        "            else:\n",
        "                orders_without_id.append(clean_row)\n",
        "        except ValueError:\n",
        "            continue\n",
        "\n",
        "filled_quantity = sum(1 for row in clean_data if row[\"Quantity\"] == 1)\n",
        "filled_discount = sum(1 for row in clean_data if row[\"Discount\"] == 0.0)\n",
        "\n",
        "print(f\"\"\"\n",
        "\"Отчёт по данным\"\n",
        "Всего строк после очистки: {len(clean_data)}\n",
        "  С CustomerID: {len(orders_with_id)}\n",
        "  Без CustomerID: {len(orders_without_id)}\n",
        "\n",
        "Подставленные значения:\n",
        "  Quantity=1: {filled_quantity}\n",
        "  Discount=0.0: {filled_discount}\n",
        "\n",
        "Примеры строк:\n",
        "1) С CustomerID:\n",
        "     {orders_with_id[0] if orders_with_id else \"Нет данных\"}\n",
        "     {orders_with_id[1] if len(orders_with_id) > 1 else \"Нет данных\"}\n",
        "2) Без CustomerID:\n",
        "     {orders_without_id[0] if orders_without_id else \"Нет данных\"}\n",
        "     {orders_without_id[1] if len(orders_without_id) > 1 else \"Нет данных\"}\n",
        "\"\"\")\n",
        "\n"
      ],
      "metadata": {
        "colab": {
          "base_uri": "https://localhost:8080/"
        },
        "id": "kemRoEws8Z7u",
        "outputId": "6e6eff4f-6a64-4508-889e-c2b96b6b7130"
      },
      "execution_count": 3,
      "outputs": [
        {
          "output_type": "stream",
          "name": "stdout",
          "text": [
            "Mounted at /content/drive\n",
            "\n",
            "\"Отчёт по данным\"\n",
            "Всего строк после очистки: 952\n",
            "  С CustomerID: 450\n",
            "  Без CustomerID: 502\n",
            "\n",
            "Подставленные значения:\n",
            "  Quantity=1: 131\n",
            "  Discount=0.0: 16\n",
            "\n",
            "Примеры строк:\n",
            "1) С CustomerID:\n",
            "     {'InvoiceNo': 'INV100003', 'CustomerID': 'f35e48d3-17ba-4346-a448-4175f63052a2', 'Description': 'LED Monitor', 'Quantity': 10.0, 'UnitPrice': 9.93, 'Category': 'Electronics', 'Discount': 0.14, 'PaymentMethod': 'BANK TRANSFER'}\n",
            "     {'InvoiceNo': 'INV100006', 'CustomerID': 'dddcb79a-1ed8-41a1-b79a-0e9b138a5bdd', 'Description': 'USB-C Cable', 'Quantity': 10.0, 'UnitPrice': 33.78, 'Category': 'Accessories', 'Discount': 0.02, 'PaymentMethod': 'CREDIT CARD'}\n",
            "2) Без CustomerID:\n",
            "     {'InvoiceNo': 'INV100000', 'CustomerID': '', 'Description': 'Bluetooth Speaker', 'Quantity': 6.0, 'UnitPrice': 19.23, 'Category': 'Electronics', 'Discount': 0.05, 'PaymentMethod': 'BANK TRANSFER'}\n",
            "     {'InvoiceNo': 'INV100002', 'CustomerID': '', 'Description': 'Power Bank', 'Quantity': 2.0, 'UnitPrice': 54.09, 'Category': 'Accessories', 'Discount': 0.21, 'PaymentMethod': 'BANK TRANSFER'}\n",
            "\n"
          ]
        }
      ]
    },
    {
      "cell_type": "code",
      "source": [
        "#№2\n",
        "#1\n",
        "import csv\n",
        "def group_by_category(orders:list)->dict[str, list]:\n",
        "  grouped={}\n",
        "  for order in orders:\n",
        "    category=order.get(\"Category\")\n",
        "    if category not in grouped:\n",
        "      grouped[category]=[]\n",
        "    grouped[category].append(order)\n",
        "  return grouped\n",
        "result = group_by_category(clean_data)\n",
        "print(\"Categories: \", result.keys())\n",
        "for category, items in result.items():\n",
        "  print(f\"\\nCategory: {category}\")\n",
        "  for order in items[:2]:\n",
        "    print(order)"
      ],
      "metadata": {
        "colab": {
          "base_uri": "https://localhost:8080/"
        },
        "id": "y9n9FHzJh4aR",
        "outputId": "4b874a0e-433f-40e3-c58f-5ee32555bd0a"
      },
      "execution_count": 4,
      "outputs": [
        {
          "output_type": "stream",
          "name": "stdout",
          "text": [
            "Categories:  dict_keys(['Electronics', 'Accessories', 'Gaming', 'Office'])\n",
            "\n",
            "Category: Electronics\n",
            "{'InvoiceNo': 'INV100000', 'CustomerID': '', 'Description': 'Bluetooth Speaker', 'Quantity': 6.0, 'UnitPrice': 19.23, 'Category': 'Electronics', 'Discount': 0.05, 'PaymentMethod': 'BANK TRANSFER'}\n",
            "{'InvoiceNo': 'INV100003', 'CustomerID': 'f35e48d3-17ba-4346-a448-4175f63052a2', 'Description': 'LED Monitor', 'Quantity': 10.0, 'UnitPrice': 9.93, 'Category': 'Electronics', 'Discount': 0.14, 'PaymentMethod': 'BANK TRANSFER'}\n",
            "\n",
            "Category: Accessories\n",
            "{'InvoiceNo': 'INV100002', 'CustomerID': '', 'Description': 'Power Bank', 'Quantity': 2.0, 'UnitPrice': 54.09, 'Category': 'Accessories', 'Discount': 0.21, 'PaymentMethod': 'BANK TRANSFER'}\n",
            "{'InvoiceNo': 'INV100004', 'CustomerID': '', 'Description': 'HDMI Adapter', 'Quantity': 9.0, 'UnitPrice': 17.52, 'Category': 'Accessories', 'Discount': 0.02, 'PaymentMethod': 'PAYPAL'}\n",
            "\n",
            "Category: Gaming\n",
            "{'InvoiceNo': 'INV100009', 'CustomerID': '', 'Description': 'Gaming Keyboard', 'Quantity': 3.0, 'UnitPrice': 42.81, 'Category': 'Gaming', 'Discount': 0.11, 'PaymentMethod': 'CREDIT CARD'}\n",
            "{'InvoiceNo': 'INV100017', 'CustomerID': '', 'Description': 'Gaming Keyboard', 'Quantity': 3.0, 'UnitPrice': 35.96, 'Category': 'Gaming', 'Discount': 0.26, 'PaymentMethod': 'CREDIT CARD'}\n",
            "\n",
            "Category: Office\n",
            "{'InvoiceNo': 'INV100010', 'CustomerID': '8d78b5fd-4402-44fc-a1aa-10e3ffe553c1', 'Description': 'Laptop Stand', 'Quantity': 9.0, 'UnitPrice': 13.65, 'Category': 'Office', 'Discount': 0.01, 'PaymentMethod': 'PAYPAL'}\n",
            "{'InvoiceNo': 'INV100026', 'CustomerID': '', 'Description': 'Laptop Stand', 'Quantity': 9.0, 'UnitPrice': 30.09, 'Category': 'Office', 'Discount': 0.01, 'PaymentMethod': 'PAYPAL'}\n"
          ]
        }
      ]
    },
    {
      "cell_type": "code",
      "source": [
        "\n",
        "#2\n",
        "def most_popular_item(orders: list) -> str:\n",
        "  product_counts= {}\n",
        "  for order in orders:\n",
        "    product = order[\"Description\"]\n",
        "    product_counts[product]=product_counts.get(product, 0) + quantity\n",
        "  most_popular=max(product_counts.items(), key=lambda x: x[1])\n",
        "  return most_popular\n",
        "popular_product, total_quantity = most_popular_item(clean_data)\n",
        "print(f\"The most popular product: {popular_product}, total bought {total_quantity} \")"
      ],
      "metadata": {
        "colab": {
          "base_uri": "https://localhost:8080/"
        },
        "id": "oYiq4AhjI1Qn",
        "outputId": "5a70ad56-aef7-4822-a60d-3eceade79f94"
      },
      "execution_count": 5,
      "outputs": [
        {
          "output_type": "stream",
          "name": "stdout",
          "text": [
            "The most popular product: LED Monitor, total bought 270.0 \n"
          ]
        }
      ]
    },
    {
      "cell_type": "code",
      "source": [
        "#3\n",
        "def total_quantity(orders: list) -> int:\n",
        "  return sum(order[\"Quantity\"] for order in orders)\n",
        "print(\"total number of items sold: \", total_quantity(clean_data))\n"
      ],
      "metadata": {
        "colab": {
          "base_uri": "https://localhost:8080/"
        },
        "id": "Sp6qPwdQNyBt",
        "outputId": "32875184-4afd-4f4d-acca-0c00df5f287b"
      },
      "execution_count": 6,
      "outputs": [
        {
          "output_type": "stream",
          "name": "stdout",
          "text": [
            "total number of items sold:  5218.0\n"
          ]
        }
      ]
    },
    {
      "cell_type": "code",
      "source": [
        "#4\n",
        "def total_sales(orders: list) -> float:\n",
        "  return sum(order[\"Quantity\"]* order[\"UnitPrice\"]*(1-order[\"Discount\"]) for order in orders)\n",
        "print(\"total sales amount including discount: \", total_sales(clean_data))"
      ],
      "metadata": {
        "colab": {
          "base_uri": "https://localhost:8080/"
        },
        "id": "QP7GKDceQAUa",
        "outputId": "f961b916-cd41-4104-bb2b-81ef77db4cb8"
      },
      "execution_count": 7,
      "outputs": [
        {
          "output_type": "stream",
          "name": "stdout",
          "text": [
            "total sales amount including discount:  227655.1934\n"
          ]
        }
      ]
    },
    {
      "cell_type": "code",
      "source": [
        "#5\n",
        "def top_customer(orders: list) -> str:\n",
        "  max_order=None\n",
        "  max_sum = 0\n",
        "  for order in orders:\n",
        "    order_sum=order[\"Quantity\"]* order[\"UnitPrice\"]*(1-order[\"Discount\"])\n",
        "    if order_sum>max_sum:\n",
        "      max_sum = order_sum\n",
        "      max_order=order[\"CustomerID\"]\n",
        "  return max_order\n",
        "print(\"CustomerID who purchased the most: \", top_customer(clean_data))"
      ],
      "metadata": {
        "colab": {
          "base_uri": "https://localhost:8080/"
        },
        "id": "k3APaJ8El0Mg",
        "outputId": "cc8e7066-810d-4acc-83a9-76d5ee72d6e5"
      },
      "execution_count": 8,
      "outputs": [
        {
          "output_type": "stream",
          "name": "stdout",
          "text": [
            "CustomerID who purchased the most:  72471533-22fe-4ed0-b676-e32ff6d1605c\n"
          ]
        }
      ]
    },
    {
      "cell_type": "code",
      "source": [
        "#6\n",
        "def top_category(orders: list) -> str:\n",
        "  category_sales = {}\n",
        "  for order in orders:\n",
        "    sales=order[\"Category\"]\n",
        "    order_sum=order[\"Quantity\"]* order[\"UnitPrice\"]*(1-order[\"Discount\"])\n",
        "    category_sales[category]=category_sales.get(category, 0)+order_sum\n",
        "  top = max(category_sales.items(), key=lambda x: x[1])\n",
        "  return f\"Max sales in Category including discount is {top[0]}\"\n",
        "print(top_category(clean_data))"
      ],
      "metadata": {
        "colab": {
          "base_uri": "https://localhost:8080/"
        },
        "id": "DXyRfH4tUHC5",
        "outputId": "131d3c2f-adbd-4698-cb92-b3eba8852307"
      },
      "execution_count": 9,
      "outputs": [
        {
          "output_type": "stream",
          "name": "stdout",
          "text": [
            "Max sales in Category including discount is Office\n"
          ]
        }
      ]
    },
    {
      "cell_type": "code",
      "source": [
        "#7\n",
        "def sum_by_category(orders: list) -> dict[str:float]:\n",
        "  category_sales = {}\n",
        "  for order in orders:\n",
        "    category=order[\"Category\"]\n",
        "    order_sum = order[\"Quantity\"]* order[\"UnitPrice\"]*(1-order[\"Discount\"])\n",
        "    category_sales[category] = category_sales.get(category, 0) + order_sum\n",
        "  return category_sales\n",
        "print(sum_by_category(clean_data))"
      ],
      "metadata": {
        "colab": {
          "base_uri": "https://localhost:8080/"
        },
        "id": "epO1W0SE_vgb",
        "outputId": "fef9b9f2-e108-4d5a-d397-cb8897214727"
      },
      "execution_count": 10,
      "outputs": [
        {
          "output_type": "stream",
          "name": "stdout",
          "text": [
            "{'Electronics': 90887.86990000005, 'Accessories': 85755.56319999998, 'Gaming': 24655.285099999997, 'Office': 26356.47520000001}\n"
          ]
        }
      ]
    },
    {
      "cell_type": "code",
      "source": [
        "#8\n",
        "def top_categories(orders:list, n:int=3) -> list[str]:\n",
        "  category_sales = {}\n",
        "  for order in orders:\n",
        "    category = order[\"Category\"]\n",
        "    order_sum = order[\"Quantity\"]* order[\"UnitPrice\"]*(1-order[\"Discount\"])\n",
        "    category_sales[category] = category_sales.get(category, 0)+order_sum\n",
        "  sorted_cat = sorted(category_sales.items(), key=lambda x: x[1], reverse=True)\n",
        "  return [cat for cat, lol in sorted_cat[:n]]\n",
        "print(\"Top 3 categories:\", top_categories(clean_data, 3))"
      ],
      "metadata": {
        "colab": {
          "base_uri": "https://localhost:8080/"
        },
        "id": "S5aOsAIT-vRd",
        "outputId": "a44206b3-a9d7-4df4-a6a6-51bf76cc4ac3"
      },
      "execution_count": 11,
      "outputs": [
        {
          "output_type": "stream",
          "name": "stdout",
          "text": [
            "Top 3 categories: ['Electronics', 'Accessories', 'Office']\n"
          ]
        }
      ]
    },
    {
      "cell_type": "code",
      "source": [
        "#9\n",
        "def payment_stats(orders: list) -> dict[str:list]:\n",
        "  payments={}\n",
        "  for order in orders:\n",
        "    method = order[\"PaymentMethod\"]\n",
        "    product=order[\"Description\"]\n",
        "    if method not in payments:\n",
        "      payments[method]=[]\n",
        "    if product not in payments[method]:\n",
        "      payments[method].append(product)\n",
        "  return payments\n",
        "payments = payment_stats(clean_data)\n",
        "print(\"Payment grouping: \")\n",
        "for method, products in payments.items():\n",
        "  print(f\"\\n{method}:\")\n",
        "  for product in products:\n",
        "    print(\" \", product)\n"
      ],
      "metadata": {
        "colab": {
          "base_uri": "https://localhost:8080/"
        },
        "id": "5VGjCzUsBH2_",
        "outputId": "d0042781-a15c-406a-c3f0-d421f54778a0"
      },
      "execution_count": 12,
      "outputs": [
        {
          "output_type": "stream",
          "name": "stdout",
          "text": [
            "Payment grouping: \n",
            "\n",
            "BANK TRANSFER:\n",
            "  Bluetooth Speaker\n",
            "  Power Bank\n",
            "  LED Monitor\n",
            "  Laptop Stand\n",
            "  Wireless Mouse\n",
            "  USB-C Cable\n",
            "  HDMI Adapter\n",
            "  Gaming Keyboard\n",
            "\n",
            "PAYPAL:\n",
            "  HDMI Adapter\n",
            "  Laptop Stand\n",
            "  Power Bank\n",
            "  USB-C Cable\n",
            "  Bluetooth Speaker\n",
            "  Gaming Keyboard\n",
            "  LED Monitor\n",
            "  Wireless Mouse\n",
            "\n",
            "CREDIT CARD:\n",
            "  USB-C Cable\n",
            "  Bluetooth Speaker\n",
            "  Wireless Mouse\n",
            "  Gaming Keyboard\n",
            "  Power Bank\n",
            "  HDMI Adapter\n",
            "  LED Monitor\n",
            "  Laptop Stand\n"
          ]
        }
      ]
    },
    {
      "cell_type": "code",
      "source": [
        "#10\n",
        "def average_discount(orders: list) -> float:\n",
        "  if not orders:\n",
        "    return 0.0\n",
        "  total_discount = sum(order[\"Discount\"] for order in orders)\n",
        "  return total_discount / len(orders)\n",
        "print(\"\\nAvearage discount: \")\n",
        "print(\" \", average_discount(clean_data))"
      ],
      "metadata": {
        "colab": {
          "base_uri": "https://localhost:8080/"
        },
        "id": "5r0ici59LwQM",
        "outputId": "7762ad32-54f6-4eac-9df4-71041e375023"
      },
      "execution_count": 13,
      "outputs": [
        {
          "output_type": "stream",
          "name": "stdout",
          "text": [
            "\n",
            "Avearage discount: \n",
            "  0.1482983193277311\n"
          ]
        }
      ]
    },
    {
      "cell_type": "code",
      "source": [
        "#№3\n",
        "import csv\n",
        "import statistics\n",
        "for order in clean_data:\n",
        "  order[\"total_with_discount\"]=order[\"Quantity\"]* order[\"UnitPrice\"]*(1-order[\"Discount\"])\n",
        "totals = [order[\"total_with_discount\"] for order in clean_data]\n"
      ],
      "metadata": {
        "id": "EV7O7Vo0iCWU"
      },
      "execution_count": 24,
      "outputs": []
    },
    {
      "cell_type": "code",
      "source": [
        "#1,2,3,4\n",
        "mean_total = statistics.mean(totals)\n",
        "median_total = statistics.median(totals)\n",
        "std_total = statistics.stdev(totals)\n",
        "q1 = statistics.median(sorted([x for x in totals if x <= median_total]))\n",
        "q3= statistics.median(sorted([x for x in totals if x >=median_total]))\n",
        "iqr = q3-q1\n",
        "print(f\"Среднее: {mean_total:.2f}, Медиана: {median_total:.2f}, Std: {std_total:.2f}, Q1: {q1:.2f}, Q3: {q3:.2f}, IQR: {iqr:.2f}\")\n"
      ],
      "metadata": {
        "colab": {
          "base_uri": "https://localhost:8080/"
        },
        "id": "UyoAYSMm3-er",
        "outputId": "fa0c1762-dcca-4892-c8c9-6ca3f274c705"
      },
      "execution_count": 15,
      "outputs": [
        {
          "output_type": "stream",
          "name": "stdout",
          "text": [
            "Среднее: 239.13, Медиана: 186.45, Std: 197.89, Q1: 74.59, Q3: 352.37, IQR: 277.78\n"
          ]
        }
      ]
    },
    {
      "cell_type": "code",
      "source": [
        "#5\n",
        "from collections import Counter\n",
        "is_normal = (mean_total - median_total)/std_total < 0.3\n",
        "print(f\"{is_normal:}\")"
      ],
      "metadata": {
        "colab": {
          "base_uri": "https://localhost:8080/"
        },
        "id": "6oAqiWhO7XmQ",
        "outputId": "8cdda367-e219-4816-ef3c-5f68f5aeffee"
      },
      "execution_count": 16,
      "outputs": [
        {
          "output_type": "stream",
          "name": "stdout",
          "text": [
            "True\n"
          ]
        }
      ]
    },
    {
      "cell_type": "code",
      "source": [
        "#6\n",
        "outliers = [j for j in totals if j < q1 - 1.5*iqr or j>q3 +1.5*iqr]\n",
        "print(f\"Количество возможных выбросов: {len(outliers)}\")\n",
        "for row in outliers[:3]:\n",
        "  print(row)"
      ],
      "metadata": {
        "colab": {
          "base_uri": "https://localhost:8080/"
        },
        "id": "g0jGjG7MHfNt",
        "outputId": "cc9bb881-3123-4a5e-ccc4-6089fc0f4788"
      },
      "execution_count": 17,
      "outputs": [
        {
          "output_type": "stream",
          "name": "stdout",
          "text": [
            "Количество возможных выбросов: 16\n",
            "859.312\n",
            "785.3391\n",
            "884.9159999999999\n"
          ]
        }
      ]
    },
    {
      "cell_type": "code",
      "source": [
        "#7\n",
        "categories = set(row['Category'] for row in clean_data)\n",
        "category_stats = {}\n",
        "\n",
        "for cat in categories:\n",
        "    cat_totals = [row['total_with_discount'] for row in clean_data if row['Category'] == cat]\n",
        "    if not cat_totals:\n",
        "        continue\n",
        "\n",
        "    median_cat = statistics.median(cat_totals)\n",
        "    Q1_cat = statistics.median(sorted([x for x in cat_totals if x <= median_cat]))\n",
        "    Q3_cat = statistics.median(sorted([x for x in cat_totals if x >= median_cat]))\n",
        "    IQR_cat = Q3_cat - Q1_cat\n",
        "\n",
        "    lower_cat = Q1_cat - 1.5 * IQR_cat\n",
        "    upper_cat = Q3_cat + 1.5 * IQR_cat\n",
        "    outliers_cat = [x for x in cat_totals if x < lower_cat or x > upper_cat]\n",
        "\n",
        "    mean_cat = statistics.mean(cat_totals)\n",
        "    std_cat = statistics.stdev(cat_totals) if len(cat_totals) > 1 else 0\n",
        "\n",
        "    within_1std_cat = sum(1 for x in cat_totals if mean_cat - std_cat <= x <= mean_cat + std_cat) / len(cat_totals) * 100\n",
        "    within_2std_cat = sum(1 for x in cat_totals if mean_cat - 2*std_cat <= x <= mean_cat + 2*std_cat) / len(cat_totals) * 100\n",
        "    if 60 <= within_1std_cat <= 75 and 90 <= within_2std_cat <= 99:\n",
        "        normality_cat = \"примерно нормальное\"\n",
        "    else:\n",
        "        normality_cat = \"не нормальное\"\n",
        "\n",
        "    category_stats[cat] = {\n",
        "        \"mean\": mean_cat,\n",
        "        \"median\": median_cat,\n",
        "        \"std\": std_cat,\n",
        "        \"Q1\": Q1_cat,\n",
        "        \"Q3\": Q3_cat,\n",
        "        \"IQR\": IQR_cat,\n",
        "        \"outliers\": outliers_cat,\n",
        "        \"normality\": normality_cat\n",
        "    }\n",
        "\n",
        "print(\"\\nСтатистика по категориям:\")\n",
        "for cat, stats in category_stats.items():\n",
        "    print(f\"{cat}: среднее={stats['mean']:.2f}, медиана={stats['median']:.2f}, std={stats['std']:.2f}, нормальность={stats['normality']}, выбросов={len(stats['outliers'])}\")"
      ],
      "metadata": {
        "colab": {
          "base_uri": "https://localhost:8080/"
        },
        "id": "YUpiLnOvOOuh",
        "outputId": "c0774846-c41f-49b1-a049-277b962dd247"
      },
      "execution_count": 18,
      "outputs": [
        {
          "output_type": "stream",
          "name": "stdout",
          "text": [
            "\n",
            "Статистика по категориям:\n",
            "Electronics: среднее=241.08, медиана=188.97, std=196.56, нормальность=примерно нормальное, выбросов=4\n",
            "Office: среднее=202.74, медиана=155.19, std=163.98, нормальность=не нормальное, выбросов=5\n",
            "Accessories: среднее=254.47, медиана=200.38, std=210.93, нормальность=примерно нормальное, выбросов=6\n",
            "Gaming: среднее=228.29, медиана=163.38, std=194.14, нормальность=примерно нормальное, выбросов=1\n"
          ]
        }
      ]
    },
    {
      "cell_type": "code",
      "source": [
        "#8\n",
        "totals = [row['Quantity'] * row['UnitPrice'] * (1 - row['Discount']) for row in clean_data]\n",
        "\n",
        "total_sales = sum(totals)\n",
        "half_sales = total_sales / 2\n",
        "\n",
        "totals_sorted = sorted(totals, reverse=True)\n",
        "\n",
        "running_sum = 0\n",
        "count = 0\n",
        "for amount in totals_sorted:\n",
        "    running_sum += amount\n",
        "    count += 1\n",
        "    if running_sum >= half_sales:\n",
        "        break\n",
        "\n",
        "total_orders = len(totals_sorted)\n",
        "percent_orders = count / total_orders * 100\n",
        "\n",
        "print(f\"{count} заказов из {total_orders} ({percent_orders:.2f}%) дают 50% продаж\")\n",
        "\n",
        "if percent_orders < 5:\n",
        "    print(\"Возможны выбросы — несколько очень дорогих заказов дают половину прибыли\")\n",
        "elif percent_orders < 20:\n",
        "    print(\"Большие единичные заказы выгоднее\")\n",
        "else:\n",
        "    print(\"Много мелких заказов дают значимую часть прибыли\")"
      ],
      "metadata": {
        "colab": {
          "base_uri": "https://localhost:8080/"
        },
        "id": "WMNMMyyLXMMa",
        "outputId": "64c13d87-6199-4d41-8b8e-8c94cc630c1e"
      },
      "execution_count": 19,
      "outputs": [
        {
          "output_type": "stream",
          "name": "stdout",
          "text": [
            "209 заказов из 952 (21.95%) дают 50% продаж\n",
            "Много мелких заказов дают значимую часть прибыли\n"
          ]
        }
      ]
    },
    {
      "cell_type": "code",
      "source": [
        "#9\n",
        "category_sums = {}\n",
        "for row in clean_data:\n",
        "    category_sums[row['Category']] = category_sums.get(row['Category'], 0) + row['total_with_discount']\n",
        "\n",
        "max_category = max(category_sums, key=category_sums.get)\n",
        "print(f\"Категория с максимальными суммами: {max_category} (сумма: {category_sums[max_category]:.2f})\")"
      ],
      "metadata": {
        "colab": {
          "base_uri": "https://localhost:8080/"
        },
        "id": "Zr0DqcIbaXa1",
        "outputId": "7f715f21-d136-468b-8023-52b6b4e64973"
      },
      "execution_count": 20,
      "outputs": [
        {
          "output_type": "stream",
          "name": "stdout",
          "text": [
            "Категория с максимальными суммами: Electronics (сумма: 90887.87)\n"
          ]
        }
      ]
    },
    {
      "cell_type": "code",
      "source": [
        "#10\n",
        "from collections import Counter\n",
        "\n",
        "item_counts = Counter(row['Description'] for row in clean_data)\n",
        "most_popular_item = item_counts.most_common(1)[0]\n",
        "print(f\"Самый популярный товар: {most_popular_item[0]} (заказов: {most_popular_item[1]})\")"
      ],
      "metadata": {
        "colab": {
          "base_uri": "https://localhost:8080/"
        },
        "id": "hmuidBwdaqWF",
        "outputId": "232b8dd7-b2ab-45ec-b1a4-ededf519169b"
      },
      "execution_count": 21,
      "outputs": [
        {
          "output_type": "stream",
          "name": "stdout",
          "text": [
            "Самый популярный товар: LED Monitor (заказов: 135)\n"
          ]
        }
      ]
    },
    {
      "cell_type": "code",
      "source": [
        "#11,12\n",
        "identified_totals = [row['total_with_discount'] for row in clean_data if row['CustomerID'].strip()]\n",
        "anonymous_totals = [row['total_with_discount'] for row in clean_data if not row['CustomerID'].strip()]\n",
        "\n",
        "print(f\"Средняя сумма идентифицированных заказов: {statistics.mean(identified_totals):.2f}\")\n",
        "print(f\"Средняя сумма анонимных заказов: {statistics.mean(anonymous_totals):.2f}\")\n",
        "print(f\"Медиана идентифицированных: {statistics.median(identified_totals):.2f}\")\n",
        "print(f\"Медиана анонимных: {statistics.median(anonymous_totals):.2f}\")\n",
        "\n",
        "if statistics.mean(identified_totals)>statistics.mean(anonymous_totals):\n",
        "  print(\"Идентифицированные клиенты в среднем тратят больше\")\n",
        "else:\n",
        "  print(\"Анонимные клиенты в среднем тратят больше\")"
      ],
      "metadata": {
        "colab": {
          "base_uri": "https://localhost:8080/"
        },
        "id": "qc0ZLRUWasAf",
        "outputId": "5276f19b-b073-4c91-adf0-ab23760092a3"
      },
      "execution_count": 25,
      "outputs": [
        {
          "output_type": "stream",
          "name": "stdout",
          "text": [
            "Средняя сумма идентифицированных заказов: 238.02\n",
            "Средняя сумма анонимных заказов: 240.13\n",
            "Медиана идентифицированных: 182.40\n",
            "Медиана анонимных: 196.14\n",
            "Анонимные клиенты в среднем тратят больше\n"
          ]
        }
      ]
    },
    {
      "cell_type": "code",
      "source": [
        "#13\n",
        "with_discount = [row for row in clean_data if row['Discount'] > 0]\n",
        "percent_with_discount = len(with_discount) / len(clean_data) * 100\n",
        "print(f\"Процент заказов со скидкой: {percent_with_discount:.2f}%\")\n",
        "if percent_with_discount > 50:\n",
        "  print(\"  -> Да, большинство клиентов покупают со скидкой\")\n",
        "else:\n",
        "  print(\"  -> Нет, скидки не являются ключевым фактором\")"
      ],
      "metadata": {
        "colab": {
          "base_uri": "https://localhost:8080/"
        },
        "id": "nqREQa45bbkb",
        "outputId": "76926cab-99c1-4d1d-8aff-38da93f79a7c"
      },
      "execution_count": 23,
      "outputs": [
        {
          "output_type": "stream",
          "name": "stdout",
          "text": [
            "Процент заказов со скидкой: 98.32%\n",
            "  -> Да, большинство клиентов покупают со скидкой\n"
          ]
        }
      ]
    },
    {
      "cell_type": "code",
      "source": [
        "# №4 Дальше ставить фокус на продаже Electronics и увеличить ассортимент Led Monitor для привлечение еще больше покупателей. 209 заказов из 952 (≈22%) обеспечивают 50% продаж, значит прибыль формируется не только за счёт единичных крупных заказов. Не ориентироваться только на крупные сделки. Лучше поддерживать широкий поток заказов средней стоимости."
      ],
      "metadata": {
        "id": "gi1zl61oYuqb"
      },
      "execution_count": null,
      "outputs": []
    }
  ]
}