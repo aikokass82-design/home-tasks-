{
  "nbformat": 4,
  "nbformat_minor": 0,
  "metadata": {
    "colab": {
      "provenance": [],
      "authorship_tag": "ABX9TyME6FBO0LuxCh4Jq8MsdVeK",
      "include_colab_link": true
    },
    "kernelspec": {
      "name": "python3",
      "display_name": "Python 3"
    },
    "language_info": {
      "name": "python"
    }
  },
  "cells": [
    {
      "cell_type": "markdown",
      "metadata": {
        "id": "view-in-github",
        "colab_type": "text"
      },
      "source": [
        "<a href=\"https://colab.research.google.com/github/aikokass82-design/home-tasks-/blob/main/Untitled1.ipynb\" target=\"_parent\"><img src=\"https://colab.research.google.com/assets/colab-badge.svg\" alt=\"Open In Colab\"/></a>"
      ]
    },
    {
      "cell_type": "code",
      "source": [
        "my_list = [0, 5, 2, 4, 7, 1, 3 , 19]\n",
        "print(my_list)\n",
        "temp=(i for i in my_list if i%2 !=0)\n",
        "count_num=sum(1 for i in my_list if i%2 !=0 )\n",
        "print(\"нечетные числа:\", list(temp), \"количество нечетных чисел:\", count_num)\n"
      ],
      "metadata": {
        "colab": {
          "base_uri": "https://localhost:8080/"
        },
        "id": "q_Pm15Y30nci",
        "outputId": "1545bbd5-b21b-40cc-c1ce-06aa59bfa31d"
      },
      "execution_count": 12,
      "outputs": [
        {
          "output_type": "stream",
          "name": "stdout",
          "text": [
            "[0, 5, 2, 4, 7, 1, 3, 19]\n",
            "нечетные числа: [5, 7, 1, 3, 19] количество нечетных чисел: 5\n"
          ]
        }
      ]
    },
    {
      "cell_type": "code",
      "source": [
        "import random\n",
        "numbers= []\n",
        "for _ in range(4):\n",
        " numbers.append(random.randint(1,10))\n",
        "print(\"1 list:\", numbers)\n",
        "numbers_2 = numbers + [i*2 for i in numbers]\n",
        "for i in range(5):\n",
        "  list_1.append(i)\n",
        "print(\"2 list:\", numbers_2)\n"
      ],
      "metadata": {
        "colab": {
          "base_uri": "https://localhost:8080/"
        },
        "id": "VAfUIS3Z9ZOp",
        "outputId": "0a3d4a3b-564f-43b9-b9a9-1e588fbd58aa"
      },
      "execution_count": 61,
      "outputs": [
        {
          "output_type": "stream",
          "name": "stdout",
          "text": [
            "1 list: [1, 2, 6, 2]\n",
            "2 list: [1, 2, 6, 2, 2, 4, 12, 4]\n"
          ]
        }
      ]
    },
    {
      "cell_type": "code",
      "source": [
        "import random\n",
        "import statistics\n",
        "salary=[]\n",
        "for _ in range(12):\n",
        "  salary.append(random.randint(7500, 15000))\n",
        "print(\"my list:\", salary, \"$\")\n",
        "total_sum=statistics.mean(salary)\n",
        "print(\"per month:\", total_sum, \"$\")\n"
      ],
      "metadata": {
        "colab": {
          "base_uri": "https://localhost:8080/"
        },
        "id": "zYshRYPEFzfF",
        "outputId": "e0adfe8c-d653-4408-c99b-1f67c9e86413"
      },
      "execution_count": 68,
      "outputs": [
        {
          "output_type": "stream",
          "name": "stdout",
          "text": [
            "my list: [12259, 8207, 10540, 8812, 10084, 14323, 7712, 13586, 9231, 13914, 9397, 10140] $\n",
            "per month: 10683.75 $\n"
          ]
        }
      ]
    },
    {
      "cell_type": "code",
      "source": [
        "numbers=[]\n",
        "for i in range(1,17):\n",
        "  numbers.append(i)\n",
        "print(\"list: \", numbers)\n",
        "matrix = [numbers[i:i+4] for i in range (0, len(numbers), 4)]\n",
        "for j in matrix:\n",
        "  print(j)\n",
        "total_sum = sum(sum(j) for j in matrix)\n",
        "print(total_sum)"
      ],
      "metadata": {
        "colab": {
          "base_uri": "https://localhost:8080/"
        },
        "id": "3Tf74R4hIfoF",
        "outputId": "87f92b05-94b0-475c-fdda-021151f20849"
      },
      "execution_count": 85,
      "outputs": [
        {
          "output_type": "stream",
          "name": "stdout",
          "text": [
            "list:  [1, 2, 3, 4, 5, 6, 7, 8, 9, 10, 11, 12, 13, 14, 15, 16]\n",
            "[1, 2, 3, 4]\n",
            "[5, 6, 7, 8]\n",
            "[9, 10, 11, 12]\n",
            "[13, 14, 15, 16]\n",
            "136\n"
          ]
        }
      ]
    }
  ]
}