{
  "nbformat": 4,
  "nbformat_minor": 0,
  "metadata": {
    "colab": {
      "provenance": [],
      "authorship_tag": "ABX9TyPMHir0eT/aIxbEsuv/XolG",
      "include_colab_link": true
    },
    "kernelspec": {
      "name": "python3",
      "display_name": "Python 3"
    },
    "language_info": {
      "name": "python"
    }
  },
  "cells": [
    {
      "cell_type": "markdown",
      "metadata": {
        "id": "view-in-github",
        "colab_type": "text"
      },
      "source": [
        "<a href=\"https://colab.research.google.com/github/aikokass82-design/home-tasks-/blob/main/Untitled1.ipynb\" target=\"_parent\"><img src=\"https://colab.research.google.com/assets/colab-badge.svg\" alt=\"Open In Colab\"/></a>"
      ]
    },
    {
      "cell_type": "code",
      "source": [
        "dict_one = {1: \"Ponedelnik\", 2: \"Vtornik\", 3: \"Sreda\", 4: \"Chetverg\", 5: \"Pyatniza\", 6: \"Subota\", 7: \"Voskresenye\"}\n",
        "for k,v in dict_one.items():\n",
        "  print (k,\"->\", v)"
      ],
      "metadata": {
        "colab": {
          "base_uri": "https://localhost:8080/"
        },
        "id": "U33bikOQj71d",
        "outputId": "df79f08a-6c0b-48dd-8b43-594efb898d99"
      },
      "execution_count": 5,
      "outputs": [
        {
          "output_type": "stream",
          "name": "stdout",
          "text": [
            "1 -> Ponedelnik\n",
            "2 -> Vtornik\n",
            "3 -> Sreda\n",
            "4 -> Chetverg\n",
            "5 -> Pyatniza\n",
            "6 -> Subota\n",
            "7 -> Voskresenye\n"
          ]
        }
      ]
    },
    {
      "cell_type": "code",
      "source": [
        "cat = {\"name\": \"Elsa\",\n",
        "       \"age\": \"7\",\n",
        "       \"color\": \"white\",\n",
        "       \"eyes color\": \"yellow-green\"}\n",
        "print (cat)"
      ],
      "metadata": {
        "colab": {
          "base_uri": "https://localhost:8080/"
        },
        "id": "_25p2FIrlzm1",
        "outputId": "80bba0e8-2aa4-46cf-b5b3-1de4976a1d08"
      },
      "execution_count": 6,
      "outputs": [
        {
          "output_type": "stream",
          "name": "stdout",
          "text": [
            "{'name': 'Elsa', 'age': '7', 'color': 'white', 'eyes color': 'yellow-green'}\n"
          ]
        }
      ]
    },
    {
      "cell_type": "code",
      "source": [
        "some_text=input(\"input some text: \")\n",
        "temp_text = some_text.lower()\n",
        "stat = {}\n",
        "for k in temp_text:\n",
        "  if k.isalpha():\n",
        "    stat[k]=stat.get(k,0)+1\n",
        "print(stat)"
      ],
      "metadata": {
        "colab": {
          "base_uri": "https://localhost:8080/"
        },
        "id": "MCukPv7Tm0z4",
        "outputId": "727cd7cd-eca9-45af-f85c-e47936872683"
      },
      "execution_count": 9,
      "outputs": [
        {
          "output_type": "stream",
          "name": "stdout",
          "text": [
            "input some text: hello world\n",
            "{'h': 1, 'e': 1, 'l': 3, 'o': 2, 'w': 1, 'r': 1, 'd': 1}\n"
          ]
        }
      ]
    },
    {
      "cell_type": "code",
      "source": [
        "names = [\"Iphone 11\" , \"Samsung Note 11\", \"Nokia 33310\"]\n",
        "prices=[500,400,1000]\n",
        "goods = {}\n",
        "for i in range(len(names)):\n",
        "  goods[names[i]]=prices[i]\n",
        "print(goods)"
      ],
      "metadata": {
        "colab": {
          "base_uri": "https://localhost:8080/"
        },
        "id": "-E8qwMPVpVYI",
        "outputId": "f9a4121e-8a46-4d94-97dc-8f4cc5995a62"
      },
      "execution_count": 13,
      "outputs": [
        {
          "output_type": "stream",
          "name": "stdout",
          "text": [
            "{'Iphone 11': 500, 'Samsung Note 11': 400, 'Nokia 33310': 1000}\n"
          ]
        }
      ]
    },
    {
      "cell_type": "code",
      "source": [
        "employees = [\n",
        "{\"name\": \"Olga\", \"depatment\": \"hr\"},\n",
        "{\"name\": \"Inna\", \"depatment\": \"test\"},\n",
        "{\"name\": \"Alex\", \"depatment\": \"developer\"},\n",
        "{\"name\": \"Anna\", \"depatment\": \"developer\"},\n",
        "{\"name\": \"Ira\", \"depatment\": \"hr\"}\n",
        "]\n",
        "grouped = {}\n",
        "for j in employees:\n",
        "  dep = j[\"depatment\"]\n",
        "  name=j[\"name\"]\n",
        "  if dep not in grouped:\n",
        "    grouped[dep]=[]\n",
        "  grouped[dep].append(name)\n",
        "print(grouped)"
      ],
      "metadata": {
        "colab": {
          "base_uri": "https://localhost:8080/"
        },
        "id": "JNs0Ie2GrxL4",
        "outputId": "7a6150ab-7db8-4ca0-c4ba-23dd661243b0"
      },
      "execution_count": 21,
      "outputs": [
        {
          "output_type": "stream",
          "name": "stdout",
          "text": [
            "{'hr': ['Olga', 'Ira'], 'test': ['Inna'], 'developer': ['Alex', 'Anna']}\n"
          ]
        }
      ]
    }
  ]
}