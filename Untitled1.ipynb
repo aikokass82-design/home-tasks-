{
  "nbformat": 4,
  "nbformat_minor": 0,
  "metadata": {
    "colab": {
      "provenance": [],
      "authorship_tag": "ABX9TyPtzGWUHn+VaCJzqmsQq1v5",
      "include_colab_link": true
    },
    "kernelspec": {
      "name": "python3",
      "display_name": "Python 3"
    },
    "language_info": {
      "name": "python"
    }
  },
  "cells": [
    {
      "cell_type": "markdown",
      "metadata": {
        "id": "view-in-github",
        "colab_type": "text"
      },
      "source": [
        "<a href=\"https://colab.research.google.com/github/aikokass82-design/home-tasks-/blob/main/Untitled1.ipynb\" target=\"_parent\"><img src=\"https://colab.research.google.com/assets/colab-badge.svg\" alt=\"Open In Colab\"/></a>"
      ]
    },
    {
      "cell_type": "code",
      "source": [
        "employees = [\n",
        "{\"name\": \"Olga\", \"depatment\": \"hr\"},\n",
        "{\"name\": \"Inna\", \"depatment\": \"test\"},\n",
        "{\"name\": \"Alex\", \"depatment\": \"developer\"},\n",
        "{\"name\": \"Anna\", \"depatment\": \"developer\"},\n",
        "{\"name\": \"Ira\", \"depatment\": \"hr\"}\n",
        "]\n",
        "def grouped_by_depatment(employees):\n",
        "  result = {}\n",
        "  for emp in employees:\n",
        "    dep = emp[\"depatment\"]\n",
        "    name = emp[\"name\"]\n",
        "    if dep not in result:\n",
        "      result[dep]=[]\n",
        "    result[dep].append(name)\n",
        "  return dict(result)\n",
        "print(grouped_by_depatment(employees))"
      ],
      "metadata": {
        "colab": {
          "base_uri": "https://localhost:8080/"
        },
        "id": "eamHEms-2Tgu",
        "outputId": "4d4df614-df38-4748-e426-ff0136859948"
      },
      "execution_count": 7,
      "outputs": [
        {
          "output_type": "stream",
          "name": "stdout",
          "text": [
            "{'hr': ['Olga', 'Ira'], 'test': ['Inna'], 'developer': ['Alex', 'Anna']}\n"
          ]
        }
      ]
    },
    {
      "cell_type": "code",
      "source": [
        "def above_threshold(numbers, threshold):\n",
        "  return sum (1 for num in numbers if num > threshold)\n",
        "print(above_threshold([10, 15,20, 8], 12))"
      ],
      "metadata": {
        "colab": {
          "base_uri": "https://localhost:8080/"
        },
        "id": "jx_JgK7n5cDn",
        "outputId": "5dbf071f-1dc0-4dd7-dd19-683bf91f57e1"
      },
      "execution_count": 10,
      "outputs": [
        {
          "output_type": "stream",
          "name": "stdout",
          "text": [
            "2\n"
          ]
        }
      ]
    },
    {
      "cell_type": "code",
      "source": [
        "def count_keyword_occurrences(strings, keyword):\n",
        "  count = 0\n",
        "  for s in strings:\n",
        "    words = s.split()\n",
        "    count +=words.count(keyword)\n",
        "  return count\n",
        "print(count_keyword_occurrences([\"Hello world\", \"Python world\", \"DA for everyone\"], \"world\"))"
      ],
      "metadata": {
        "colab": {
          "base_uri": "https://localhost:8080/"
        },
        "id": "SrejzxRr8549",
        "outputId": "5ec07f76-3c7b-482a-e95f-5673e9d799d8"
      },
      "execution_count": 16,
      "outputs": [
        {
          "output_type": "stream",
          "name": "stdout",
          "text": [
            "2\n"
          ]
        }
      ]
    }
  ]
}