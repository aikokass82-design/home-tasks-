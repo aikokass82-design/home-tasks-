{
  "nbformat": 4,
  "nbformat_minor": 0,
  "metadata": {
    "colab": {
      "provenance": [],
      "authorship_tag": "ABX9TyN0MU3Xwa3IHvYZxt7tvqG3",
      "include_colab_link": true
    },
    "kernelspec": {
      "name": "python3",
      "display_name": "Python 3"
    },
    "language_info": {
      "name": "python"
    }
  },
  "cells": [
    {
      "cell_type": "markdown",
      "metadata": {
        "id": "view-in-github",
        "colab_type": "text"
      },
      "source": [
        "<a href=\"https://colab.research.google.com/github/aikokass82-design/home-tasks-/blob/main/Untitled1.ipynb\" target=\"_parent\"><img src=\"https://colab.research.google.com/assets/colab-badge.svg\" alt=\"Open In Colab\"/></a>"
      ]
    },
    {
      "cell_type": "code",
      "source": [
        "#1\n",
        "some_text = input(\"input some text: \")\n",
        "vowels =\"bB\"\n",
        "count_text=sum(1 for i in some_text if i in vowels)\n",
        "print(count_text)\n"
      ],
      "metadata": {
        "colab": {
          "base_uri": "https://localhost:8080/"
        },
        "id": "pYqzIbo2M6Od",
        "outputId": "d6820a5a-46b7-47cd-93d2-fc65274b9420"
      },
      "execution_count": 14,
      "outputs": [
        {
          "output_type": "stream",
          "name": "stdout",
          "text": [
            "input some text: bear\n",
            "1\n"
          ]
        }
      ]
    },
    {
      "cell_type": "code",
      "source": [
        "#2\n",
        "name = input(\"input yout name: \")\n",
        "if name[0].isupper() and name.isalpha() and name[1:].islower():\n",
        "  print(\"Yes\")\n",
        "else:\n",
        "  print(\"Not\")"
      ],
      "metadata": {
        "colab": {
          "base_uri": "https://localhost:8080/"
        },
        "id": "YsYM0FhpQFZ0",
        "outputId": "4c148b44-445e-4f6b-f208-2c868c249dc9"
      },
      "execution_count": 25,
      "outputs": [
        {
          "output_type": "stream",
          "name": "stdout",
          "text": [
            "input yout name: john\n",
            "Not\n"
          ]
        }
      ]
    },
    {
      "cell_type": "code",
      "source": [
        "#3\n",
        "text=input(\"input some text: \")\n",
        "total=0\n",
        "for char in text:\n",
        "  total+=ord(char)\n",
        "print(\"sum of codes: \", total)"
      ],
      "metadata": {
        "colab": {
          "base_uri": "https://localhost:8080/"
        },
        "id": "mv-wg9q3TEM1",
        "outputId": "78ba7796-5c85-460d-cd24-48990336967b"
      },
      "execution_count": 26,
      "outputs": [
        {
          "output_type": "stream",
          "name": "stdout",
          "text": [
            "input some text: ABC\n",
            "sum of codes:  198\n"
          ]
        }
      ]
    },
    {
      "cell_type": "code",
      "source": [
        "#4\n",
        "import math\n",
        "text=math.pi\n",
        "for i in range(2,12):\n",
        "  print (f\"{text:.{i}f}\")"
      ],
      "metadata": {
        "colab": {
          "base_uri": "https://localhost:8080/"
        },
        "id": "dN5su0XwTozd",
        "outputId": "b4b18bc4-2ec6-4107-85e8-bd8f71dde452"
      },
      "execution_count": 8,
      "outputs": [
        {
          "output_type": "stream",
          "name": "stdout",
          "text": [
            "3.14\n",
            "3.142\n",
            "3.1416\n",
            "3.14159\n",
            "3.141593\n",
            "3.1415927\n",
            "3.14159265\n",
            "3.141592654\n",
            "3.1415926536\n",
            "3.14159265359\n"
          ]
        }
      ]
    },
    {
      "cell_type": "code",
      "source": [
        "#5\n",
        "text = input(\"input some text: \")\n",
        "words = text.split()\n",
        "longest=max(words, key=len)\n",
        "print(\"the longest word: \", longest)"
      ],
      "metadata": {
        "colab": {
          "base_uri": "https://localhost:8080/"
        },
        "id": "61OmRuCTWKuV",
        "outputId": "734496b8-27bf-4069-93a9-92333ba90e70"
      },
      "execution_count": 12,
      "outputs": [
        {
          "output_type": "stream",
          "name": "stdout",
          "text": [
            "input some text: the loooongest           word\n",
            "the longest word:  loooongest\n"
          ]
        }
      ]
    },
    {
      "cell_type": "code",
      "source": [
        "#6\n",
        "text = input(\"some text with #: \")\n",
        "list_1=[word[1:] for word in text.split() if word.startswith(\"#\")]\n",
        "print(list_1)"
      ],
      "metadata": {
        "colab": {
          "base_uri": "https://localhost:8080/"
        },
        "id": "iIZ9wHZnRHQr",
        "outputId": "6896140b-759a-490b-f5fc-86d1567139e2"
      },
      "execution_count": 14,
      "outputs": [
        {
          "output_type": "stream",
          "name": "stdout",
          "text": [
            "some text with #: #Python for #DataAnalytics\n",
            "['Python', 'DataAnalytics']\n"
          ]
        }
      ]
    },
    {
      "cell_type": "code",
      "source": [
        "#7\n",
        "num = input(\"Password: \")\n",
        "result = num\n",
        "for digit in \"0123456789\":\n",
        "  result = result.replace(digit, \"*\")\n",
        "print(\"Password: \", result)"
      ],
      "metadata": {
        "colab": {
          "base_uri": "https://localhost:8080/"
        },
        "id": "dxuRRnphSNLJ",
        "outputId": "3cebffee-21c8-4c94-8f15-1c4943751318"
      },
      "execution_count": 2,
      "outputs": [
        {
          "output_type": "stream",
          "name": "stdout",
          "text": [
            "Password: 123-567\n",
            "Password:  ***-***\n"
          ]
        }
      ]
    }
  ]
}