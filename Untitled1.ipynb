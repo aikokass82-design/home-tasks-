{
  "nbformat": 4,
  "nbformat_minor": 0,
  "metadata": {
    "colab": {
      "provenance": [],
      "authorship_tag": "ABX9TyPXuxm8NhiztJg7enmHgp8M",
      "include_colab_link": true
    },
    "kernelspec": {
      "name": "python3",
      "display_name": "Python 3"
    },
    "language_info": {
      "name": "python"
    }
  },
  "cells": [
    {
      "cell_type": "markdown",
      "metadata": {
        "id": "view-in-github",
        "colab_type": "text"
      },
      "source": [
        "<a href=\"https://colab.research.google.com/github/aikokass82-design/home-tasks-/blob/main/Untitled1.ipynb\" target=\"_parent\"><img src=\"https://colab.research.google.com/assets/colab-badge.svg\" alt=\"Open In Colab\"/></a>"
      ]
    },
    {
      "cell_type": "code",
      "source": [
        "def filter_clients(clients, **criteria):\n",
        "  result = []\n",
        "  for client in clients:\n",
        "    if \"min_age\" in criteria and client[\"age\"] < criteria[\"min_age\"]:\n",
        "      continue\n",
        "    if \"max_age\" in criteria and client[\"age\"] > criteria[\"max_age\"]:\n",
        "      continue\n",
        "    if \"country\" in criteria and client[\"country\"] != criteria[\"country\"]:\n",
        "      continue\n",
        "    result.append(client)\n",
        "  return result\n",
        "clients = [\n",
        "{'name': 'Alice', 'age': 28, 'country': 'USA'},\n",
        "{'name': 'Bob', 'age': 35, 'country': 'Canada'},\n",
        "{'name': 'Carol', 'age': 40, 'country': 'USA'},\n",
        "]\n",
        "print(filter_clients(clients, min_age=30))\n",
        "print(filter_clients(clients, max_age=35, country=\"USA\"))"
      ],
      "metadata": {
        "colab": {
          "base_uri": "https://localhost:8080/"
        },
        "id": "8mmmdHF9yLyu",
        "outputId": "7c8838dc-64de-4a90-8ccf-6cb7345956d6"
      },
      "execution_count": 4,
      "outputs": [
        {
          "output_type": "stream",
          "name": "stdout",
          "text": [
            "[{'name': 'Bob', 'age': 35, 'country': 'Canada'}, {'name': 'Carol', 'age': 40, 'country': 'USA'}]\n",
            "[{'name': 'Alice', 'age': 28, 'country': 'USA'}]\n"
          ]
        }
      ]
    },
    {
      "cell_type": "code",
      "source": [
        "from functools import reduce\n",
        "new_users = [10, 15, 7, 20]\n",
        "total_users = reduce(lambda x,y: x + y, new_users)\n",
        "print(\"Общее количество пользователей: \", total_users)\n",
        "sum_users = 0\n",
        "day_exceeded = None\n",
        "for day, users in enumerate(new_users, start = 1):\n",
        "  sum_users += users\n",
        "  if sum_users > 30:\n",
        "    day_exceeded = day\n",
        "    break\n",
        "print(\"День когда превысело 30: \", day_exceeded)"
      ],
      "metadata": {
        "colab": {
          "base_uri": "https://localhost:8080/"
        },
        "id": "SGgnGr1pNlC_",
        "outputId": "67d3395a-ae04-44a6-bf49-0c9dcdde94d5"
      },
      "execution_count": 6,
      "outputs": [
        {
          "output_type": "stream",
          "name": "stdout",
          "text": [
            "Общее количество пользователей:  52\n",
            "День когда превысело 30:  3\n"
          ]
        }
      ]
    },
    {
      "cell_type": "code",
      "source": [
        "dates = ['2023-01-01', '2023-01-02', '2023-01-03']\n",
        "temps = [5.5, 3.2, 4.0]\n",
        "res = zip(dates, temps)\n",
        "print(res)\n",
        "print(type(res))\n",
        "min_temp = list(res)\n",
        "min_index = temps.index(min(temps))\n",
        "min_dates = dates[min_index]\n",
        "print(min_temp)\n",
        "print(\"the lowest temp was: \", min_dates)"
      ],
      "metadata": {
        "colab": {
          "base_uri": "https://localhost:8080/"
        },
        "id": "Vysg26L_PyR2",
        "outputId": "35ceefc6-010e-4ee3-f6b0-846d01b06a49"
      },
      "execution_count": 9,
      "outputs": [
        {
          "output_type": "stream",
          "name": "stdout",
          "text": [
            "<zip object at 0x7863d7498200>\n",
            "<class 'zip'>\n",
            "[('2023-01-01', 5.5), ('2023-01-02', 3.2), ('2023-01-03', 4.0)]\n",
            "the lowest temp was:  2023-01-02\n"
          ]
        }
      ]
    }
  ]
}