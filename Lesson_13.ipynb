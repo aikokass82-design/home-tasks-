{
  "nbformat": 4,
  "nbformat_minor": 0,
  "metadata": {
    "colab": {
      "provenance": [],
      "include_colab_link": true
    },
    "kernelspec": {
      "name": "python3",
      "display_name": "Python 3"
    },
    "language_info": {
      "name": "python"
    }
  },
  "cells": [
    {
      "cell_type": "markdown",
      "metadata": {
        "id": "view-in-github",
        "colab_type": "text"
      },
      "source": [
        "<a href=\"https://colab.research.google.com/github/aikokass82-design/home-tasks-/blob/main/Lesson_13.ipynb\" target=\"_parent\"><img src=\"https://colab.research.google.com/assets/colab-badge.svg\" alt=\"Open In Colab\"/></a>"
      ]
    },
    {
      "cell_type": "code",
      "source": [
        "from google.colab import drive\n",
        "import pandas as pd\n",
        "drive.mount(\"/content/drive\")\n",
        "from datetime import datetime"
      ],
      "metadata": {
        "id": "zTzOh-eXo4Mx"
      },
      "execution_count": null,
      "outputs": []
    },
    {
      "cell_type": "code",
      "source": [
        "advertising_info = pd.read_csv(\"/content/drive/MyDrive/Colab Notebooks/reclamni_zosobi-info.csv\")\n",
        "advertising_info"
      ],
      "metadata": {
        "id": "P9ZBCR_QpaMo"
      },
      "execution_count": null,
      "outputs": []
    },
    {
      "cell_type": "code",
      "source": [
        "distributor_info = pd.read_csv(\"/content/drive/MyDrive/Colab Notebooks/distributor-info.csv\")\n",
        "distributor_info"
      ],
      "metadata": {
        "id": "juVbI2HnqVHx"
      },
      "execution_count": null,
      "outputs": []
    },
    {
      "cell_type": "code",
      "source": [
        "#1 zadaniye\n",
        "advertising_info.columns = advertising_info.columns.str.strip()\n",
        "distributor_info.columns = distributor_info.columns.str.strip()\n",
        "\n",
        "advertising_info.dropna(subset=[\"id\", \"distributorid\"], inplace=True)\n",
        "distributor_info.dropna(subset=[\"id\"], inplace=True)\n",
        "\n",
        "advertising_info.drop_duplicates(inplace=True)\n",
        "distributor_info.drop_duplicates(inplace=True)\n",
        "\n",
        "advertising_info['issuedDate'] = pd.to_datetime(advertising_info['issuedDate'], errors='coerce')\n",
        "advertising_info['validFrom'] = pd.to_datetime(advertising_info['validFrom'], errors='coerce')\n",
        "advertising_info['validThrough'] = pd.to_datetime(advertising_info['validThrough'], errors='coerce')\n",
        "advertising_info['status'] = advertising_info['status'].str.lower().str.strip()\n",
        "advertising_info['distributorid'] = advertising_info['distributorid'].astype(str)\n",
        "distributor_info['id'] = distributor_info['id'].astype(str)\n",
        "\n",
        "print(advertising_info.info())\n",
        "print(distributor_info.info())"
      ],
      "metadata": {
        "id": "sGcNotT2rUQ6"
      },
      "execution_count": null,
      "outputs": []
    },
    {
      "cell_type": "code",
      "source": [
        "today = pd.Timestamp.today()\n",
        "advertising_info[\"isActiveNow\"] = (advertising_info[\"validFrom\"]<=today)&(advertising_info[\"validThrough\"]>=today)\n",
        "print(advertising_info[[\"id\", \"validFrom\",\"validThrough\", \"isActiveNow\"]].head(10))\n",
        "print(advertising_info[\"isActiveNow\"].value_counts())"
      ],
      "metadata": {
        "id": "Y0RD_Q2CCdpe"
      },
      "execution_count": null,
      "outputs": []
    },
    {
      "cell_type": "code",
      "source": [
        "!pip install ydata-profiling"
      ],
      "metadata": {
        "id": "9yj1Rz41FGY9"
      },
      "execution_count": null,
      "outputs": []
    },
    {
      "cell_type": "code",
      "source": [
        "import ydata_profiling\n",
        "profile_adv = ydata_profiling.ProfileReport(advertising_info)\n",
        "profile_adv.to_file(\"advertising_info_report.html\")\n",
        "\n",
        "profile_dist = ydata_profiling.ProfileReport(distributor_info)\n",
        "profile_dist.to_file(\"distributor_info_report.html\")"
      ],
      "metadata": {
        "id": "zdO9S_49FVSt"
      },
      "execution_count": null,
      "outputs": []
    },
    {
      "cell_type": "markdown",
      "source": [
        "2 zadaniye"
      ],
      "metadata": {
        "id": "s-vEzFjGMxxN"
      }
    },
    {
      "cell_type": "code",
      "source": [
        "#1\n",
        "type_counts = advertising_info[\"type\"].value_counts()\n",
        "print(type_counts.head(5))"
      ],
      "metadata": {
        "id": "wIpdyKApM0ub"
      },
      "execution_count": null,
      "outputs": []
    },
    {
      "cell_type": "code",
      "source": [
        "#2\n",
        "pivo_type_district = advertising_info.pivot_table(index=\"district\", columns=\"type\", values=\"id\", aggfunc=\"count\", fill_value=0)\n",
        "print(pivo_type_district)"
      ],
      "metadata": {
        "id": "2AlE9VLdOMY_"
      },
      "execution_count": null,
      "outputs": []
    },
    {
      "cell_type": "code",
      "source": [
        "#3\n",
        "advertising_info = advertising_info.merge(distributor_info, left_on='distributorid', right_on='id', how='left')\n",
        "advertising_info.rename(columns={'distributor': 'company'}, inplace=True)\n",
        "company_counts = advertising_info['company'].value_counts()\n",
        "print(company_counts)"
      ],
      "metadata": {
        "id": "1kNdiYLhPP19"
      },
      "execution_count": null,
      "outputs": []
    },
    {
      "cell_type": "code",
      "source": [
        "#4\n",
        "company_area = advertising_info.groupby(\"company\")[\"area\"].sum().sort_values(ascending=False)\n",
        "print(company_area.head(10))"
      ],
      "metadata": {
        "id": "i_f1vJmfRjyr"
      },
      "execution_count": null,
      "outputs": []
    },
    {
      "cell_type": "code",
      "source": [
        "#5\n",
        "pivot_area_district = advertising_info.pivot_table(index=\"district\", columns=\"company\", values=\"area\", aggfunc=\"sum\", fill_value=0)\n",
        "print(pivot_area_district)"
      ],
      "metadata": {
        "id": "_mpB2mePVY7b"
      },
      "execution_count": null,
      "outputs": []
    },
    {
      "cell_type": "code",
      "source": [
        "#6\n",
        "today=pd.Timestamp.today()\n",
        "closest_expiry = advertising_info.sort_values(\"validThrough\").head(10)\n",
        "print(closest_expiry[[\"company\", \"validThrough\"]])"
      ],
      "metadata": {
        "id": "tJakuOAgWMj-"
      },
      "execution_count": null,
      "outputs": []
    },
    {
      "cell_type": "code",
      "source": [
        "#7\n",
        "company_counts = advertising_info[\"company\"].value_counts()\n",
        "top5_companies = company_counts.head(5).index\n",
        "top5_data=advertising_info[advertising_info[\"company\"].isin(top5_companies)]\n",
        "pivot_top5_type = top5_data.pivot_table(index=\"company\", columns=\"type\", aggfunc=\"size\", fill_value=0)\n",
        "print(pivot_top5_type)"
      ],
      "metadata": {
        "id": "cFo8wq6kWtly"
      },
      "execution_count": null,
      "outputs": []
    },
    {
      "cell_type": "code",
      "source": [
        "top_type_per_company = pivot_top5_type.idxmax(axis=1)\n",
        "print(\"Наиболее предпочтительный тип рекламы у топ5 компаний:\")\n",
        "print(top_type_per_company)"
      ],
      "metadata": {
        "id": "vax3hSgCa-MA"
      },
      "execution_count": null,
      "outputs": []
    }
  ]
}