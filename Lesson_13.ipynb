{
  "nbformat": 4,
  "nbformat_minor": 0,
  "metadata": {
    "colab": {
      "provenance": [],
      "include_colab_link": true
    },
    "kernelspec": {
      "name": "python3",
      "display_name": "Python 3"
    },
    "language_info": {
      "name": "python"
    }
  },
  "cells": [
    {
      "cell_type": "markdown",
      "metadata": {
        "id": "view-in-github",
        "colab_type": "text"
      },
      "source": [
        "<a href=\"https://colab.research.google.com/github/aikokass82-design/home-tasks-/blob/main/Lesson_13.ipynb\" target=\"_parent\"><img src=\"https://colab.research.google.com/assets/colab-badge.svg\" alt=\"Open In Colab\"/></a>"
      ]
    },
    {
      "cell_type": "code",
      "source": [
        "from google.colab import drive\n",
        "import pandas as pd\n",
        "drive.mount(\"/content/drive\")\n",
        "from datetime import datetime"
      ],
      "metadata": {
        "id": "zTzOh-eXo4Mx"
      },
      "execution_count": null,
      "outputs": []
    },
    {
      "cell_type": "code",
      "source": [
        "advertising_info = pd.read_csv(\"/content/drive/MyDrive/Colab Notebooks/reclamni_zosobi-info.csv\")\n",
        "advertising_info"
      ],
      "metadata": {
        "id": "P9ZBCR_QpaMo"
      },
      "execution_count": null,
      "outputs": []
    },
    {
      "cell_type": "code",
      "source": [
        "distributor_info = pd.read_csv(\"/content/drive/MyDrive/Colab Notebooks/distributor-info.csv\")\n",
        "distributor_info"
      ],
      "metadata": {
        "id": "juVbI2HnqVHx"
      },
      "execution_count": null,
      "outputs": []
    },
    {
      "cell_type": "code",
      "source": [
        "#1 zadaniye\n",
        "advertising_info.columns = advertising_info.columns.str.strip()\n",
        "distributor_info.columns = distributor_info.columns.str.strip()\n",
        "\n",
        "advertising_info.dropna(subset=[\"id\", \"distributorid\"], inplace=True)\n",
        "distributor_info.dropna(subset=[\"id\"], inplace=True)\n",
        "\n",
        "advertising_info.drop_duplicates(inplace=True)\n",
        "distributor_info.drop_duplicates(inplace=True)\n",
        "\n",
        "advertising_info['issuedDate'] = pd.to_datetime(advertising_info['issuedDate'], errors='coerce')\n",
        "advertising_info['validFrom'] = pd.to_datetime(advertising_info['validFrom'], errors='coerce')\n",
        "advertising_info['validThrough'] = pd.to_datetime(advertising_info['validThrough'], errors='coerce')\n",
        "advertising_info['status'] = advertising_info['status'].str.lower().str.strip()\n",
        "advertising_info['distributorid'] = advertising_info['distributorid'].astype(str)\n",
        "distributor_info['id'] = distributor_info['id'].astype(str)\n",
        "\n",
        "print(advertising_info.info())\n",
        "print(distributor_info.info())"
      ],
      "metadata": {
        "id": "sGcNotT2rUQ6"
      },
      "execution_count": null,
      "outputs": []
    },
    {
      "cell_type": "code",
      "source": [
        "today = pd.Timestamp.today()\n",
        "advertising_info[\"isActiveNow\"] = (advertising_info[\"validFrom\"]<=today)&(advertising_info[\"validThrough\"]>=today)\n",
        "print(advertising_info[[\"id\", \"validFrom\",\"validThrough\", \"isActiveNow\"]].head(10))\n",
        "print(advertising_info[\"isActiveNow\"].value_counts())"
      ],
      "metadata": {
        "id": "Y0RD_Q2CCdpe"
      },
      "execution_count": null,
      "outputs": []
    },
    {
      "cell_type": "code",
      "source": [
        "!pip install ydata-profiling"
      ],
      "metadata": {
        "id": "9yj1Rz41FGY9"
      },
      "execution_count": null,
      "outputs": []
    },
    {
      "cell_type": "code",
      "source": [
        "import ydata_profiling\n",
        "profile_adv = ydata_profiling.ProfileReport(advertising_info)\n",
        "profile_adv.to_file(\"advertising_info_report.html\")\n",
        "\n",
        "profile_dist = ydata_profiling.ProfileReport(distributor_info)\n",
        "profile_dist.to_file(\"distributor_info_report.html\")"
      ],
      "metadata": {
        "id": "zdO9S_49FVSt"
      },
      "execution_count": null,
      "outputs": []
    },
    {
      "cell_type": "markdown",
      "source": [
        "2 zadaniye"
      ],
      "metadata": {
        "id": "s-vEzFjGMxxN"
      }
    },
    {
      "cell_type": "code",
      "source": [
        "#1\n",
        "type_counts = advertising_info[\"type\"].value_counts()\n",
        "print(type_counts.head(5))"
      ],
      "metadata": {
        "id": "wIpdyKApM0ub"
      },
      "execution_count": null,
      "outputs": []
    },
    {
      "cell_type": "code",
      "source": [
        "#2\n",
        "pivo_type_district = advertising_info.pivot_table(index=\"district\", columns=\"type\", values=\"id\", aggfunc=\"count\", fill_value=0)\n",
        "print(pivo_type_district)"
      ],
      "metadata": {
        "id": "2AlE9VLdOMY_"
      },
      "execution_count": null,
      "outputs": []
    },
    {
      "cell_type": "code",
      "source": [
        "#3\n",
        "advertising_info = advertising_info.merge(distributor_info, left_on='distributorid', right_on='id', how='left')\n",
        "advertising_info.rename(columns={'distributor': 'company'}, inplace=True)\n",
        "company_counts = advertising_info['company'].value_counts()\n",
        "print(company_counts)"
      ],
      "metadata": {
        "id": "1kNdiYLhPP19"
      },
      "execution_count": null,
      "outputs": []
    },
    {
      "cell_type": "code",
      "source": [
        "#4\n",
        "company_area = advertising_info.groupby(\"company\")[\"area\"].sum().sort_values(ascending=False)\n",
        "print(company_area.head(10))"
      ],
      "metadata": {
        "id": "i_f1vJmfRjyr"
      },
      "execution_count": null,
      "outputs": []
    },
    {
      "cell_type": "code",
      "source": [
        "#5\n",
        "pivot_area_district = advertising_info.pivot_table(index=\"district\", columns=\"company\", values=\"area\", aggfunc=\"sum\", fill_value=0)\n",
        "print(pivot_area_district)"
      ],
      "metadata": {
        "id": "_mpB2mePVY7b"
      },
      "execution_count": null,
      "outputs": []
    },
    {
      "cell_type": "code",
      "source": [
        "#6\n",
        "today=pd.Timestamp.today()\n",
        "closest_expiry = advertising_info.sort_values(\"validThrough\").head(10)\n",
        "print(closest_expiry[[\"company\", \"validThrough\"]])"
      ],
      "metadata": {
        "id": "tJakuOAgWMj-"
      },
      "execution_count": null,
      "outputs": []
    },
    {
      "cell_type": "code",
      "source": [
        "#7\n",
        "company_counts = advertising_info[\"company\"].value_counts()\n",
        "top5_companies = company_counts.head(5).index\n",
        "top5_data=advertising_info[advertising_info[\"company\"].isin(top5_companies)]\n",
        "pivot_top5_type = top5_data.pivot_table(index=\"company\", columns=\"type\", aggfunc=\"size\", fill_value=0)\n",
        "print(pivot_top5_type)"
      ],
      "metadata": {
        "id": "cFo8wq6kWtly"
      },
      "execution_count": null,
      "outputs": []
    },
    {
      "cell_type": "code",
      "source": [
        "top_type_per_company = pivot_top5_type.idxmax(axis=1)\n",
        "print(\"Наиболее предпочтительный тип рекламы у топ5 компаний:\")\n",
        "print(top_type_per_company)"
      ],
      "metadata": {
        "id": "vax3hSgCa-MA"
      },
      "execution_count": null,
      "outputs": []
    },
    {
      "cell_type": "markdown",
      "source": [
        "Zadaniye 3"
      ],
      "metadata": {
        "id": "4aQCagfjKBzh"
      }
    },
    {
      "cell_type": "code",
      "source": [
        "#1\n",
        "adv_counts = advertising_info[\"district\"].value_counts()\n",
        "adv_area = advertising_info.groupby(\"district\")[\"area\"].sum().sort_values(ascending=False)\n",
        "print(\"TOP 5 районов по кол-ву реклам:\")\n",
        "print(adv_counts.head(5))\n",
        "print(\"\\nTOP 5 райнов по суммарной площади рекламы:\")\n",
        "print(adv_area.head(5))"
      ],
      "metadata": {
        "id": "C-OKWLp_KF3m"
      },
      "execution_count": null,
      "outputs": []
    },
    {
      "cell_type": "markdown",
      "source": [
        "Оболонський район является наиболее перспективным, так как здесь сосредоточено большое количество рекламных объектов и компании. Высокая доля рекламных площадей говорит о высоком спросе и конкурентной активности."
      ],
      "metadata": {
        "id": "m2PqStI3tXM2"
      }
    },
    {
      "cell_type": "code",
      "source": [
        "#2\n",
        "chosen_area = \"Оболонський\"\n",
        "leaders = (\n",
        "   advertising_info[advertising_info[\"district\"]==chosen_area][\"company\"].value_counts().head(3)\n",
        ")\n",
        "print(\"Топ 3 компании в Оболонськом районе:\")\n",
        "print(leaders)"
      ],
      "metadata": {
        "id": "B55wypBuvLik"
      },
      "execution_count": null,
      "outputs": []
    },
    {
      "cell_type": "code",
      "source": [
        "#3\n",
        "top3_companies = leaders.index\n",
        "top3_num=advertising_info[advertising_info[\"company\"].isin(top3_companies)&(advertising_info[\"district\"]==chosen_area)]\n",
        "pivot_top3= top3_num.pivot_table(\n",
        "    index=\"company\", columns=\"type\", aggfunc=\"size\", fill_value=0\n",
        ")\n",
        "pivot_top3.plot(kind = \"bar\", stacked=True, title=f\"Типы рекламы у лидеров в районе {chosen_area}\", figsize=(8,5))"
      ],
      "metadata": {
        "id": "G_h1HY0qwEQE"
      },
      "execution_count": null,
      "outputs": []
    },
    {
      "cell_type": "code",
      "source": [
        "#4\n",
        "import seaborn as sns\n",
        "import matplotlib.pyplot as plt\n",
        "advertising_info[\"validFrom\"]=pd.to_datetime(advertising_info[\"validFrom\"], errors = \"coerce\")\n",
        "advertising_info[\"year\"] = advertising_info[\"validFrom\"].dt.year\n",
        "sns.lineplot(data=advertising_info, x=\"year\", y=\"area\", estimator=\"mean\", marker=\"o\")\n",
        "plt.title(\"Средняя площадь рекламы по годам\")\n",
        "plt.ylabel(\"Средняя площадь (m^2)\")\n",
        "plt.show()"
      ],
      "metadata": {
        "id": "FQSI1hKq2TIl"
      },
      "execution_count": null,
      "outputs": []
    },
    {
      "cell_type": "code",
      "source": [
        "#5\n",
        "chosen_company = top3_companies[0]\n",
        "company_data = advertising_info[advertising_info[\"company\"]==chosen_company]\n",
        "company_year = company_data.groupby(\"year\").size()\n",
        "company_year.plot(kind=\"bar\", title = f\"Кол-во рекламы по годам ({chosen_company})\", figsize=(8,4))\n",
        "\n",
        "company_types = company_data[\"type\"].value_counts()\n",
        "plt.figure(figsize=(5,5))\n",
        "plt.pie(company_types, labels=company_types.index, autopct=\"%1.1f%%\")\n",
        "plt.title(f\"Распределение типов рекламы компании {chosen_company}\")\n",
        "plt.show()"
      ],
      "metadata": {
        "id": "fvRkxdHb6WtD"
      },
      "execution_count": null,
      "outputs": []
    },
    {
      "cell_type": "markdown",
      "source": [
        "Zadaniye 4"
      ],
      "metadata": {
        "id": "kE4N7xyMCRnE"
      }
    },
    {
      "cell_type": "markdown",
      "source": [
        "На основании анализа количества рекламных объектов и суммарной площади наиболее активным районом оказался Оболонський. Это значит, что там высокий спрос на наружную рекламу и много компаний конкурируют за внимание аудитории. Рекомендация: сосредоточиться на этом районе, так как там больше потенциальных клиентов.\n",
        "\n",
        "По данным топ3 компаний в этом районе, наиболее популярные типы рекламы: «Спеціальна рекламна конструкція на фасаді будинку (будівлі)» и «Щит на фасаді будинку (будівлі)». Это значит, что компании активно используют именно эти форматы. При возможности можно предложить и другие современные решения, например LED/цифровые экраны.\n",
        "\n",
        "Компании, у которых срок действия договора заканчивается ближе всего к текущему моменту, скоро будут продлевать или искать новых поставщиков. По данным анализа (пункт 6 задания 2) такие компании можно выделить и предложить им услуги по обновлению рекламы или расширению форматов."
      ],
      "metadata": {
        "id": "2BXNv9vjAWR-"
      }
    }
  ]
}