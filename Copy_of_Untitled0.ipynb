{
  "nbformat": 4,
  "nbformat_minor": 0,
  "metadata": {
    "colab": {
      "provenance": [],
      "authorship_tag": "ABX9TyPwx6Z3gxvbEPzc23oKs/3J",
      "include_colab_link": true
    },
    "kernelspec": {
      "name": "python3",
      "display_name": "Python 3"
    },
    "language_info": {
      "name": "python"
    }
  },
  "cells": [
    {
      "cell_type": "markdown",
      "metadata": {
        "id": "view-in-github",
        "colab_type": "text"
      },
      "source": [
        "<a href=\"https://colab.research.google.com/github/aikokass82-design/home-tasks-/blob/main/Copy_of_Untitled0.ipynb\" target=\"_parent\"><img src=\"https://colab.research.google.com/assets/colab-badge.svg\" alt=\"Open In Colab\"/></a>"
      ]
    },
    {
      "cell_type": "code",
      "source": [
        "for i in range(1, 101):\n",
        "  if i % 7 == 0:\n",
        "    print(i)"
      ],
      "metadata": {
        "colab": {
          "base_uri": "https://localhost:8080/"
        },
        "id": "kQn1JOB--xHe",
        "outputId": "ce36cd42-de27-4657-a2fb-eccd9ca67f6e"
      },
      "execution_count": 34,
      "outputs": [
        {
          "output_type": "stream",
          "name": "stdout",
          "text": [
            "7\n",
            "14\n",
            "21\n",
            "28\n",
            "35\n",
            "42\n",
            "49\n",
            "56\n",
            "63\n",
            "70\n",
            "77\n",
            "84\n",
            "91\n",
            "98\n"
          ]
        }
      ]
    },
    {
      "cell_type": "code",
      "source": [
        "n = int(input(\"введите число от 5 до 15: \"))\n",
        "if 4<n<16:\n",
        "  factorial = 1\n",
        "  for i in range(1, n + 1):\n",
        "    factorial *= i\n",
        "  print(n, \"!\", \"=\", factorial)\n",
        "else:\n",
        "  print(\"error\")"
      ],
      "metadata": {
        "colab": {
          "base_uri": "https://localhost:8080/"
        },
        "id": "opDDOjPu_zCz",
        "outputId": "d5fb59bd-fbc2-46cc-8d8e-01e7f7a663b6"
      },
      "execution_count": 32,
      "outputs": [
        {
          "output_type": "stream",
          "name": "stdout",
          "text": [
            "введите число от 5 до 15: 6\n",
            "6 ! = 720\n"
          ]
        }
      ]
    },
    {
      "cell_type": "code",
      "source": [
        "n = int(input(\"введите число: \"))\n",
        "for i in range(1, 11):\n",
        "  print(i, \"x 5 =\", i * 5)\n"
      ],
      "metadata": {
        "colab": {
          "base_uri": "https://localhost:8080/"
        },
        "id": "dm3MlMNbC4Hs",
        "outputId": "db4c8703-780d-4986-fe78-2dd9c0fe1d24"
      },
      "execution_count": 36,
      "outputs": [
        {
          "output_type": "stream",
          "name": "stdout",
          "text": [
            "введите число: 4\n",
            "1 x 5 = 5\n",
            "2 x 5 = 10\n",
            "3 x 5 = 15\n",
            "4 x 5 = 20\n",
            "5 x 5 = 25\n",
            "6 x 5 = 30\n",
            "7 x 5 = 35\n",
            "8 x 5 = 40\n",
            "9 x 5 = 45\n",
            "10 x 5 = 50\n"
          ]
        }
      ]
    },
    {
      "cell_type": "code",
      "source": [
        "hight = int(input (\"h: \"))\n",
        "width = int(input(\"w: \"))\n",
        "for i in range(hight):\n",
        "  if i ==0 or i == hight-1:\n",
        "    print(\"*\" * width)\n",
        "  else:\n",
        "    print(\"*\" + \" \" * (width-2)+\"*\")"
      ],
      "metadata": {
        "id": "w6XvZ-zdGFQX"
      },
      "execution_count": null,
      "outputs": []
    }
  ]
}