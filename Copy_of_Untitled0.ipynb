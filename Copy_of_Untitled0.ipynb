{
  "nbformat": 4,
  "nbformat_minor": 0,
  "metadata": {
    "colab": {
      "provenance": [],
      "authorship_tag": "ABX9TyP4u9XIucqTqlY7LwadpFPL",
      "include_colab_link": true
    },
    "kernelspec": {
      "name": "python3",
      "display_name": "Python 3"
    },
    "language_info": {
      "name": "python"
    }
  },
  "cells": [
    {
      "cell_type": "markdown",
      "metadata": {
        "id": "view-in-github",
        "colab_type": "text"
      },
      "source": [
        "<a href=\"https://colab.research.google.com/github/aikokass82-design/home-tasks-/blob/main/Copy_of_Untitled0.ipynb\" target=\"_parent\"><img src=\"https://colab.research.google.com/assets/colab-badge.svg\" alt=\"Open In Colab\"/></a>"
      ]
    },
    {
      "cell_type": "code",
      "source": [
        "a = 12\n",
        "b = 15\n",
        "c = 17\n",
        "d = 19\n",
        "max_num = a\n",
        "if b > max_num:\n",
        "  max_num = b\n",
        "if c > max_num:\n",
        "  max_num = c\n",
        "if d > max_num:\n",
        "  max_num = d\n",
        "print(\"max num =\", max_num)"
      ],
      "metadata": {
        "id": "-JJ5eEG8J1Iy",
        "colab": {
          "base_uri": "https://localhost:8080/"
        },
        "outputId": "6be70819-61b5-4fd8-c523-6ccb6bcf4b1b"
      },
      "execution_count": null,
      "outputs": [
        {
          "output_type": "stream",
          "name": "stdout",
          "text": [
            "max num = 19\n"
          ]
        }
      ]
    },
    {
      "cell_type": "code",
      "source": [
        "flat_num = int(input(\"введите номер квартиры:\"))\n",
        "max_floor = 9\n",
        "max_ent = 4\n",
        "flats_per_floor = 4\n",
        "flats_per_ent = max_floor * flats_per_floor\n",
        "total_flats = flats_per_ent * max_ent\n",
        "if flat_num < 1 or flat_num > total_flats:\n",
        "  print(\"not existed\")\n",
        "else:\n",
        "  entrance = (flat_num - 1)//flats_per_ent + 1\n",
        "  number_in_entrance = (flat_num - 1)%flats_per_ent\n",
        "  floor = (number_in_entrance)//flats_per_floor + 1\n",
        "print(\"flat :\", flat_num, \"entrance :\", entrance, \"floor :\", floor)"
      ],
      "metadata": {
        "id": "CkCxkKX-J57I",
        "colab": {
          "base_uri": "https://localhost:8080/"
        },
        "outputId": "3ed1eb96-5d2d-4479-f776-ae85e7455003"
      },
      "execution_count": null,
      "outputs": [
        {
          "output_type": "stream",
          "name": "stdout",
          "text": [
            "введите номер квартиры:34\n",
            "flat : 34 entrance : 1 floor : 9\n"
          ]
        }
      ]
    },
    {
      "cell_type": "code",
      "source": [
        "year=int(input(\"введите год:\"))\n",
        "if year%4==0 and year%100 != 0 or year%400 == 0:\n",
        "  print(\"leap year, 366 days.\")\n",
        "else:\n",
        "  print(\"not leap year, 365.\")"
      ],
      "metadata": {
        "colab": {
          "base_uri": "https://localhost:8080/"
        },
        "id": "AC8fLr6kLAnH",
        "outputId": "01ca496c-f255-4180-f74e-b3ab306231c2"
      },
      "execution_count": 1,
      "outputs": [
        {
          "output_type": "stream",
          "name": "stdout",
          "text": [
            "введите год:100\n",
            "not leap year, 365.\n"
          ]
        }
      ]
    },
    {
      "cell_type": "code",
      "source": [
        "a = int(input(\"num a: \"))\n",
        "b = int(input(\"num b: \"))\n",
        "c = int(input(\"num c: \"))\n",
        "if a + b > c and b + c > a and a + c > b:\n",
        "  print(\"triangle exist\")\n",
        "else:\n",
        "  print(\"triangle does not exist\")"
      ],
      "metadata": {
        "colab": {
          "base_uri": "https://localhost:8080/"
        },
        "id": "_jPcUO9xLFUx",
        "outputId": "28d41b98-5aaf-4b1d-8961-8197932d6028"
      },
      "execution_count": null,
      "outputs": [
        {
          "output_type": "stream",
          "name": "stdout",
          "text": [
            "num a: 3\n",
            "num b: 5\n",
            "num c: 2\n",
            "triangle does not exist\n"
          ]
        }
      ]
    }
  ]
}