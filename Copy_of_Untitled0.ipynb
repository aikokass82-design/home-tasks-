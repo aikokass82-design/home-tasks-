{
  "nbformat": 4,
  "nbformat_minor": 0,
  "metadata": {
    "colab": {
      "provenance": [],
      "authorship_tag": "ABX9TyPwx6Z3gxvbEPzc23oKs/3J",
      "include_colab_link": true
    },
    "kernelspec": {
      "name": "python3",
      "display_name": "Python 3"
    },
    "language_info": {
      "name": "python"
    }
  },
  "cells": [
    {
      "cell_type": "markdown",
      "metadata": {
        "id": "view-in-github",
        "colab_type": "text"
      },
      "source": [
        "<a href=\"https://colab.research.google.com/github/aikokass82-design/home-tasks-/blob/main/Copy_of_Untitled0.ipynb\" target=\"_parent\"><img src=\"https://colab.research.google.com/assets/colab-badge.svg\" alt=\"Open In Colab\"/></a>"
      ]
    },
    {
      "cell_type": "code",
      "source": [
        "for i in range(1, 101):\n",
        "  if i % 7 == 0:\n",
        "    print(i)"
      ],
      "metadata": {
        "colab": {
          "base_uri": "https://localhost:8080/"
        },
        "id": "kQn1JOB--xHe",
        "outputId": "925a514c-e33a-4f9d-8b6d-a50844737241"
      },
      "execution_count": 2,
      "outputs": [
        {
          "output_type": "stream",
          "name": "stdout",
          "text": [
            "7\n",
            "14\n",
            "21\n",
            "28\n",
            "35\n",
            "42\n",
            "49\n",
            "56\n",
            "63\n",
            "70\n",
            "77\n",
            "84\n",
            "91\n",
            "98\n"
          ]
        }
      ]
    },
    {
      "cell_type": "code",
      "source": [
        "n = int(input(\"введите число от 5 до 15: \"))\n",
        "if 4<n<16:\n",
        "  factorial = 1\n",
        "  for i in range(1, n + 1):\n",
        "    factorial *= i\n",
        "  print(n, \"!\", \"=\", factorial)\n",
        "else:\n",
        "  print(\"error\")"
      ],
      "metadata": {
        "colab": {
          "base_uri": "https://localhost:8080/"
        },
        "id": "opDDOjPu_zCz",
        "outputId": "7ae3507d-a384-42f2-e9cf-ff977393987d"
      },
      "execution_count": 12,
      "outputs": [
        {
          "output_type": "stream",
          "name": "stdout",
          "text": [
            "введите число от 5 до 15: 7\n",
            "7 ! = 5040\n"
          ]
        }
      ]
    },
    {
      "cell_type": "code",
      "source": [
        "n = int(input(\"введите число: \"))\n",
        "for i in range(1, 11):\n",
        "  print(i, \"x 5 =\", i * 5)\n"
      ],
      "metadata": {
        "colab": {
          "base_uri": "https://localhost:8080/"
        },
        "id": "dm3MlMNbC4Hs",
        "outputId": "26f2d724-ee7c-4fff-f97b-3aa3978a8f24"
      },
      "execution_count": 29,
      "outputs": [
        {
          "output_type": "stream",
          "name": "stdout",
          "text": [
            "введите число: 4\n",
            "1 x 5 = 5\n",
            "2 x 5 = 10\n",
            "3 x 5 = 15\n",
            "4 x 5 = 20\n",
            "5 x 5 = 25\n",
            "6 x 5 = 30\n",
            "7 x 5 = 35\n",
            "8 x 5 = 40\n",
            "9 x 5 = 45\n",
            "10 x 5 = 50\n"
          ]
        }
      ]
    },
    {
      "cell_type": "code",
      "source": [
        "hight = int(input (\"h: \"))\n",
        "width = int(input(\"w: \"))\n",
        "for i in range(hight):\n",
        "  if i ==0 or i == hight-1:\n",
        "    print(\"*\" * width)\n",
        "  else:\n",
        "    print(\"*\" + \" \" * (width-2)+\"*\")"
      ],
      "metadata": {
        "colab": {
          "base_uri": "https://localhost:8080/"
        },
        "id": "w6XvZ-zdGFQX",
        "outputId": "5222737c-3486-480e-b9f3-cf8e5b144f84"
      },
      "execution_count": 31,
      "outputs": [
        {
          "output_type": "stream",
          "name": "stdout",
          "text": [
            "h: 7\n",
            "w: 3\n",
            "***\n",
            "* *\n",
            "* *\n",
            "* *\n",
            "* *\n",
            "* *\n",
            "***\n"
          ]
        }
      ]
    }
  ]
}